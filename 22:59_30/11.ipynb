{
  "nbformat": 4,
  "nbformat_minor": 0,
  "metadata": {
    "colab": {
      "name": "Untitled3.ipynb",
      "provenance": [],
      "include_colab_link": true
    },
    "kernelspec": {
      "name": "python3",
      "display_name": "Python 3"
    }
  },
  "cells": [
    {
      "cell_type": "markdown",
      "metadata": {
        "id": "view-in-github",
        "colab_type": "text"
      },
      "source": [
        "<a href=\"https://colab.research.google.com/github/MahmoudElhalwany/EGS/blob/master/22%3A59_30/11.ipynb\" target=\"_parent\"><img src=\"https://colab.research.google.com/assets/colab-badge.svg\" alt=\"Open In Colab\"/></a>"
      ]
    },
    {
      "cell_type": "code",
      "metadata": {
        "id": "uhiSG8zjtDKm",
        "colab_type": "code",
        "colab": {}
      },
      "source": [
        "import pandas as pd \n",
        "import numpy as np\n",
        "import json \n",
        "from sklearn.preprocessing import LabelEncoder\n",
        "from sklearn.linear_model import LinearRegression\n",
        "import matplotlib.pyplot as plt\n",
        "import seaborn as sns\n",
        "import math\n",
        "\n"
      ],
      "execution_count": 0,
      "outputs": []
    },
    {
      "cell_type": "code",
      "metadata": {
        "id": "OT1fsp-PtDKw",
        "colab_type": "code",
        "colab": {}
      },
      "source": [
        "credits = pd.read_csv(\"https://raw.githubusercontent.com/MahmoudElhalwany/film_vote_predictor/master/predicting_movie_success_train_set/predicting_movie_success_train_set/tmdb_5000_credits_train.csv\")\n",
        "movies = pd.read_csv(\"https://raw.githubusercontent.com/MahmoudElhalwany/film_vote_predictor/master/predicting_movie_success_train_set/predicting_movie_success_train_set/tmdb_5000_movies_train.csv\")"
      ],
      "execution_count": 0,
      "outputs": []
    },
    {
      "cell_type": "markdown",
      "metadata": {
        "id": "7f7aB4BVWxqN",
        "colab_type": "text"
      },
      "source": [
        "Join both csv files on movie_id"
      ]
    },
    {
      "cell_type": "code",
      "metadata": {
        "id": "XSZi7TOwtDK1",
        "colab_type": "code",
        "colab": {}
      },
      "source": [
        "credits = credits.drop(\"title\",axis=1)\n",
        "movies = credits.set_index(\"movie_id\").join(movies.set_index(\"id\"),on =\"movie_id\" ,sort = True)"
      ],
      "execution_count": 0,
      "outputs": []
    },
    {
      "cell_type": "code",
      "metadata": {
        "id": "9gQBiVllBubo",
        "colab_type": "code",
        "colab": {}
      },
      "source": [
        "movies.reset_index(inplace= True,drop=True)"
      ],
      "execution_count": 0,
      "outputs": []
    },
    {
      "cell_type": "code",
      "metadata": {
        "id": "CZsVc7P53_r3",
        "colab_type": "code",
        "colab": {
          "base_uri": "https://localhost:8080/",
          "height": 54
        },
        "outputId": "0640ded9-09d1-4ce8-ac96-6761a5db28cb"
      },
      "source": [
        "movies[\"cast\"][4380]"
      ],
      "execution_count": 683,
      "outputs": [
        {
          "output_type": "execute_result",
          "data": {
            "text/plain": [
              "'[{\"cast_id\": 3, \"character\": \"Cheryl\", \"credit_id\": \"52fe4ede9251416c75165335\", \"gender\": 1, \"id\": 368, \"name\": \"Reese Witherspoon\", \"order\": 0}, {\"cast_id\": 7, \"character\": \"Bobbi\", \"credit_id\": \"537243c50e0a2672e5002096\", \"gender\": 1, \"id\": 4784, \"name\": \"Laura Dern\", \"order\": 1}, {\"cast_id\": 13, \"character\": \"Paul\", \"credit_id\": \"537244020e0a2672f1001f70\", \"gender\": 0, \"id\": 1218218, \"name\": \"Thomas Sadoski\", \"order\": 2}, {\"cast_id\": 28, \"character\": \"Leif\", \"credit_id\": \"54b66401c3a368779000193a\", \"gender\": 2, \"id\": 1223463, \"name\": \"Keene McRae\", \"order\": 4}, {\"cast_id\": 5, \"character\": \"Jonathan\", \"credit_id\": \"537243a70e0a2672f400205e\", \"gender\": 2, \"id\": 91520, \"name\": \"Michiel Huisman\", \"order\": 5}, {\"cast_id\": 8, \"character\": \"Frank\", \"credit_id\": \"537243ce0e0a2672fb0020a1\", \"gender\": 2, \"id\": 6951, \"name\": \"W. Earl Brown\", \"order\": 6}, {\"cast_id\": 6, \"character\": \"Aimee\", \"credit_id\": \"537243bd0e0a2672f4002061\", \"gender\": 1, \"id\": 12930, \"name\": \"Gaby Hoffmann\", \"order\": 7}, {\"cast_id\": 10, \"character\": \"Greg\", \"credit_id\": \"537243de0e0a2672e500209c\", \"gender\": 2, \"id\": 114000, \"name\": \"Kevin Rankin\", \"order\": 8}, {\"cast_id\": 11, \"character\": \"Ranger\", \"credit_id\": \"537243e70e0a2672eb002042\", \"gender\": 2, \"id\": 12792, \"name\": \"Brian Van Holt\", \"order\": 9}, {\"cast_id\": 64, \"character\": \"Ed\", \"credit_id\": \"55c6db5e92514105c3001503\", \"gender\": 2, \"id\": 1272612, \"name\": \"Cliff De Young\", \"order\": 10}, {\"cast_id\": 4, \"character\": \"Jimmy Carter\", \"credit_id\": \"52fe4ede9251416c75165339\", \"gender\": 2, \"id\": 59014, \"name\": \"Mo McRae\", \"order\": 11}, {\"cast_id\": 65, \"character\": \"Josh\", \"credit_id\": \"55c6db8ac3a36824880015ee\", \"gender\": 0, \"id\": 1495069, \"name\": \"Will Cuddy\", \"order\": 12}, {\"cast_id\": 66, \"character\": \"Rick\", \"credit_id\": \"55c6dba2c3a3687ed1000e5f\", \"gender\": 0, \"id\": 1330039, \"name\": \"Leigh Parker\", \"order\": 13}, {\"cast_id\": 67, \"character\": \"Richie\", \"credit_id\": \"55c6dbe492514105c8001440\", \"gender\": 2, \"id\": 212768, \"name\": \"Nick Eversman\", \"order\": 14}, {\"cast_id\": 68, \"character\": \"Joe\", \"credit_id\": \"55c6dc42c3a368247f0013b5\", \"gender\": 2, \"id\": 1118080, \"name\": \"Ray Mist\", \"order\": 15}, {\"cast_id\": 69, \"character\": \"Therapist\", \"credit_id\": \"55c6dc5992514105d80013a2\", \"gender\": 2, \"id\": 1205239, \"name\": \"Randy Schulman\", \"order\": 16}, {\"cast_id\": 70, \"character\": \"Stacey\", \"credit_id\": \"55c6dc7892514105c300152f\", \"gender\": 0, \"id\": 163013, \"name\": \"Cathryn de Prume\", \"order\": 17}, {\"cast_id\": 71, \"character\": \"Greg\\'s Friend\", \"credit_id\": \"55c6dc8792514105cf00140c\", \"gender\": 2, \"id\": 1495073, \"name\": \"Kurt Conroyd\", \"order\": 18}, {\"cast_id\": 72, \"character\": \"Greg\\'s Friend\", \"credit_id\": \"55c6dca692514105c6001451\", \"gender\": 0, \"id\": 1495074, \"name\": \"Ted de Chatelet\", \"order\": 19}, {\"cast_id\": 73, \"character\": \"Greg\\'s Friend\", \"credit_id\": \"55c6dcb0c3a3682496001543\", \"gender\": 0, \"id\": 1495075, \"name\": \"Jeffree Newman\", \"order\": 20}, {\"cast_id\": 74, \"character\": \"Lou\", \"credit_id\": \"55c6dcf9c3a368248c001404\", \"gender\": 0, \"id\": 1495076, \"name\": \"Lorraine Bahr\", \"order\": 21}, {\"cast_id\": 75, \"character\": \"Dave\", \"credit_id\": \"55c6dd0592514105c8001473\", \"gender\": 0, \"id\": 1495077, \"name\": \"Jerry Carlton\", \"order\": 22}, {\"cast_id\": 76, \"character\": \"Spider\", \"credit_id\": \"55c6dd2592514105d200142d\", \"gender\": 0, \"id\": 1495078, \"name\": \"Kevin-Michael Moore\", \"order\": 23}, {\"cast_id\": 77, \"character\": \"Saleswoman\", \"credit_id\": \"55c6dd3592514105d2001432\", \"gender\": 0, \"id\": 1495079, \"name\": \"Debra Pralle\", \"order\": 24}, {\"cast_id\": 78, \"character\": \"Doctor\", \"credit_id\": \"55c6dd41c3a3687ed1000ee7\", \"gender\": 0, \"id\": 1495080, \"name\": \"Gray Eubank\", \"order\": 25}, {\"cast_id\": 79, \"character\": \"Nurse\", \"credit_id\": \"55c6dd5092514105d80013c7\", \"gender\": 0, \"id\": 1495081, \"name\": \"Anne Sorce\", \"order\": 26}, {\"cast_id\": 9, \"character\": \"T.J.\", \"credit_id\": \"537243d60e0a2672f4002067\", \"gender\": 2, \"id\": 82945, \"name\": \"Charles Baker\", \"order\": 27}, {\"cast_id\": 12, \"character\": \"Clint\", \"credit_id\": \"537243f80e0a2672f8001f44\", \"gender\": 2, \"id\": 129868, \"name\": \"J.D. Evermore\", \"order\": 28}, {\"cast_id\": 80, \"character\": \"Desk Clerk\", \"credit_id\": \"55c6dd8c92514105d2001443\", \"gender\": 0, \"id\": 199704, \"name\": \"Beth Hall\", \"order\": 29}, {\"cast_id\": 81, \"character\": \"Annette (Frank\\'s Wife)\", \"credit_id\": \"55c6dda992514105cc00145b\", \"gender\": 1, \"id\": 143204, \"name\": \"Jan Hoag\", \"order\": 30}, {\"cast_id\": 82, \"character\": \"Notary\", \"credit_id\": \"55c6ddba92514105c8001498\", \"gender\": 0, \"id\": 1495082, \"name\": \"Carlee McManus\", \"order\": 31}, {\"cast_id\": 83, \"character\": \"Tattooist\", \"credit_id\": \"55c6ddebc3a3682496001566\", \"gender\": 0, \"id\": 155523, \"name\": \"Art Alexakis\", \"order\": 32}, {\"cast_id\": 84, \"character\": \"Vera\", \"credit_id\": \"55c6de07c3a36810450003c8\", \"gender\": 0, \"id\": 156395, \"name\": \"Anne Gee Byrd\", \"order\": 33}, {\"cast_id\": 85, \"character\": \"Kyle\", \"credit_id\": \"55c6de2a92514105d2001461\", \"gender\": 0, \"id\": 1495083, \"name\": \"Evan O\\'Toole\", \"order\": 34}, {\"cast_id\": 86, \"character\": \"Lecturer\", \"credit_id\": \"55c6de4092514105d2001466\", \"gender\": 1, \"id\": 152355, \"name\": \"Jeanine Jackson\", \"order\": 35}, {\"cast_id\": 87, \"character\": \"Cheryl\\'s Dad\", \"credit_id\": \"55c6de6292514105d500144a\", \"gender\": 2, \"id\": 1495084, \"name\": \"Jason Newell\", \"order\": 36}, {\"cast_id\": 88, \"character\": \"Young Suit #1\", \"credit_id\": \"55c6de9692514105d5001454\", \"gender\": 0, \"id\": 1495085, \"name\": \"Barry O\\'Neil\", \"order\": 37}, {\"cast_id\": 89, \"character\": \"Young Suit #2\", \"credit_id\": \"55c6ded4c3a36810450003e3\", \"gender\": 0, \"id\": 1495086, \"name\": \"Richard Morris\", \"order\": 38}, {\"cast_id\": 90, \"character\": \"Cheryl (6 Yrs Old)\", \"credit_id\": \"55c6deecc3a3687ed1000f2d\", \"gender\": 0, \"id\": 1495087, \"name\": \"Bobbi Strayed Lindstrom\", \"order\": 39}, {\"cast_id\": 91, \"character\": \"Man At Gas Station\", \"credit_id\": \"55c6defd92514105d5001467\", \"gender\": 0, \"id\": 1495088, \"name\": \"Robert Alan Barnett\", \"order\": 40}, {\"cast_id\": 92, \"character\": \"Leif (3 Yrs Old)\", \"credit_id\": \"55c6df0dc3a36810450003ee\", \"gender\": 0, \"id\": 1495089, \"name\": \"William Nelson\", \"order\": 41}, {\"cast_id\": 93, \"character\": \"Man Behind Counter\", \"credit_id\": \"55c6df2a92514105cf001468\", \"gender\": 0, \"id\": 79907, \"name\": \"Tony Doupe\", \"order\": 42}, {\"cast_id\": 94, \"character\": \"Weird Dude\", \"credit_id\": \"55c6df41c3a368247f001423\", \"gender\": 2, \"id\": 1379621, \"name\": \"Dan Considine\", \"order\": 43}, {\"cast_id\": 95, \"character\": \"Outdoor Store Clerk\", \"credit_id\": \"55c6df51c3a3687ed1000f47\", \"gender\": 0, \"id\": 1495090, \"name\": \"Andrew Saunderson\", \"order\": 44}, {\"cast_id\": 96, \"character\": \"Man At The Hotel Bar\", \"credit_id\": \"55c6df79c3a3687ed1000f52\", \"gender\": 0, \"id\": 1202473, \"name\": \"Greg James\", \"order\": 45}, {\"cast_id\": 97, \"character\": \"Paul\\'s Girlfriend\", \"credit_id\": \"55c6df89c3a3687ed1000f57\", \"gender\": 0, \"id\": 1495091, \"name\": \"Orianna Herrman\", \"order\": 46}, {\"cast_id\": 98, \"character\": \"Grateful Dead Cover Band\", \"credit_id\": \"55c6df9fc3a368248c001469\", \"gender\": 0, \"id\": 1495092, \"name\": \"Brian Borcherdt\", \"order\": 47}, {\"cast_id\": 99, \"character\": \"Grateful Dead Cover Band\", \"credit_id\": \"55c6dfaec3a3687ed1000f66\", \"gender\": 2, \"id\": 1193640, \"name\": \"Eric D. Johnson\", \"order\": 48}, {\"cast_id\": 100, \"character\": \"Wayne\", \"credit_id\": \"55c6dfc4c3a368248500155c\", \"gender\": 2, \"id\": 1371109, \"name\": \"Matt Pascua\", \"order\": 49}, {\"cast_id\": 101, \"character\": \"Male Nurse\", \"credit_id\": \"55c6dfd192514105c60014d5\", \"gender\": 0, \"id\": 1495093, \"name\": \"Edric Carter\", \"order\": 50}, {\"cast_id\": 102, \"character\": \"Grateful Dead Fan Musicians\", \"credit_id\": \"55c6dff6c3a368247f00143c\", \"gender\": 0, \"id\": 1495094, \"name\": \"Matthew Noyes\", \"order\": 51}, {\"cast_id\": 103, \"character\": \"Grateful Dead Fan Musicians\", \"credit_id\": \"55c6e00ec3a36824900012d0\", \"gender\": 0, \"id\": 1495095, \"name\": \"John Dickerson,\", \"order\": 52}, {\"cast_id\": 104, \"character\": \"Toll Booth Operator\", \"credit_id\": \"55c6e021c3a368104500041a\", \"gender\": 0, \"id\": 1495096, \"name\": \"Denise McSweeny\", \"order\": 53}, {\"cast_id\": 105, \"character\": \"College Freshman\", \"credit_id\": \"55c6e05192514105cf00148c\", \"gender\": 0, \"id\": 1463282, \"name\": \"Alina Gatti\", \"order\": 54}, {\"cast_id\": 106, \"character\": \"Son Of Man At Gas Station\", \"credit_id\": \"55c6e05e92514105d800143c\", \"gender\": 0, \"id\": 1495097, \"name\": \"Henry Shotwell\", \"order\": 55}, {\"cast_id\": 107, \"character\": \"Woman in Truck\", \"credit_id\": \"55c6e07ac3a3687ed1000f7f\", \"gender\": 0, \"id\": 1263516, \"name\": \"Cheryl Strayed\", \"order\": 56}, {\"cast_id\": 108, \"character\": \"Truck Driver (uncredited)\", \"credit_id\": \"56db41a59251417a48002b00\", \"gender\": 2, \"id\": 1586843, \"name\": \"Vincent M. Biscione\", \"order\": 57}]'"
            ]
          },
          "metadata": {
            "tags": []
          },
          "execution_count": 683
        }
      ]
    },
    {
      "cell_type": "code",
      "metadata": {
        "id": "4rkhhvLkB4yM",
        "colab_type": "code",
        "outputId": "7c08cea7-3f2e-41f0-d521-e823697d19f5",
        "colab": {
          "base_uri": "https://localhost:8080/",
          "height": 1000
        }
      },
      "source": [
        "movies"
      ],
      "execution_count": 684,
      "outputs": [
        {
          "output_type": "execute_result",
          "data": {
            "text/html": [
              "<div>\n",
              "<style scoped>\n",
              "    .dataframe tbody tr th:only-of-type {\n",
              "        vertical-align: middle;\n",
              "    }\n",
              "\n",
              "    .dataframe tbody tr th {\n",
              "        vertical-align: top;\n",
              "    }\n",
              "\n",
              "    .dataframe thead th {\n",
              "        text-align: right;\n",
              "    }\n",
              "</style>\n",
              "<table border=\"1\" class=\"dataframe\">\n",
              "  <thead>\n",
              "    <tr style=\"text-align: right;\">\n",
              "      <th></th>\n",
              "      <th>cast</th>\n",
              "      <th>crew</th>\n",
              "      <th>budget</th>\n",
              "      <th>genres</th>\n",
              "      <th>homepage</th>\n",
              "      <th>keywords</th>\n",
              "      <th>original_language</th>\n",
              "      <th>original_title</th>\n",
              "      <th>overview</th>\n",
              "      <th>popularity</th>\n",
              "      <th>production_companies</th>\n",
              "      <th>production_countries</th>\n",
              "      <th>release_date</th>\n",
              "      <th>revenue</th>\n",
              "      <th>runtime</th>\n",
              "      <th>spoken_languages</th>\n",
              "      <th>status</th>\n",
              "      <th>tagline</th>\n",
              "      <th>title</th>\n",
              "      <th>vote_average</th>\n",
              "      <th>vote_count</th>\n",
              "    </tr>\n",
              "  </thead>\n",
              "  <tbody>\n",
              "    <tr>\n",
              "      <th>0</th>\n",
              "      <td>[{\"cast_id\": 42, \"character\": \"Ted the Bellhop...</td>\n",
              "      <td>[{\"credit_id\": \"52fe420dc3a36847f800012d\", \"de...</td>\n",
              "      <td>4000000.0</td>\n",
              "      <td>[{\"id\": 80, \"name\": \"Crime\"}, {\"id\": 35, \"name...</td>\n",
              "      <td>NaN</td>\n",
              "      <td>[{\"id\": 612, \"name\": \"hotel\"}, {\"id\": 613, \"na...</td>\n",
              "      <td>en</td>\n",
              "      <td>Four Rooms</td>\n",
              "      <td>It's Ted the Bellhop's first night on the job....</td>\n",
              "      <td>22.876230</td>\n",
              "      <td>[{\"name\": \"Miramax Films\", \"id\": 14}, {\"name\":...</td>\n",
              "      <td>[{\"iso_3166_1\": \"US\", \"name\": \"United States o...</td>\n",
              "      <td>12/09/1995</td>\n",
              "      <td>4300000.0</td>\n",
              "      <td>98.0</td>\n",
              "      <td>[{\"iso_639_1\": \"en\", \"name\": \"English\"}]</td>\n",
              "      <td>Released</td>\n",
              "      <td>Twelve outrageous guests. Four scandalous requ...</td>\n",
              "      <td>Four Rooms</td>\n",
              "      <td>6.5</td>\n",
              "      <td>530.0</td>\n",
              "    </tr>\n",
              "    <tr>\n",
              "      <th>1</th>\n",
              "      <td>[{\"cast_id\": 3, \"character\": \"Luke Skywalker\",...</td>\n",
              "      <td>[{\"credit_id\": \"52fe420dc3a36847f8000437\", \"de...</td>\n",
              "      <td>11000000.0</td>\n",
              "      <td>[{\"id\": 12, \"name\": \"Adventure\"}, {\"id\": 28, \"...</td>\n",
              "      <td>http://www.starwars.com/films/star-wars-episod...</td>\n",
              "      <td>[{\"id\": 803, \"name\": \"android\"}, {\"id\": 4270, ...</td>\n",
              "      <td>en</td>\n",
              "      <td>Star Wars</td>\n",
              "      <td>Princess Leia is captured and held hostage by ...</td>\n",
              "      <td>126.393695</td>\n",
              "      <td>[{\"name\": \"Lucasfilm\", \"id\": 1}, {\"name\": \"Twe...</td>\n",
              "      <td>[{\"iso_3166_1\": \"US\", \"name\": \"United States o...</td>\n",
              "      <td>5/25/1977</td>\n",
              "      <td>775398007.0</td>\n",
              "      <td>121.0</td>\n",
              "      <td>[{\"iso_639_1\": \"en\", \"name\": \"English\"}]</td>\n",
              "      <td>Released</td>\n",
              "      <td>A long time ago in a galaxy far, far away...</td>\n",
              "      <td>Star Wars</td>\n",
              "      <td>8.1</td>\n",
              "      <td>6624.0</td>\n",
              "    </tr>\n",
              "    <tr>\n",
              "      <th>2</th>\n",
              "      <td>[{\"cast_id\": 8, \"character\": \"Marlin (voice)\",...</td>\n",
              "      <td>[{\"credit_id\": \"52fe420ec3a36847f80006b1\", \"de...</td>\n",
              "      <td>94000000.0</td>\n",
              "      <td>[{\"id\": 16, \"name\": \"Animation\"}, {\"id\": 10751...</td>\n",
              "      <td>http://movies.disney.com/finding-nemo</td>\n",
              "      <td>[{\"id\": 494, \"name\": \"father son relationship\"...</td>\n",
              "      <td>en</td>\n",
              "      <td>Finding Nemo</td>\n",
              "      <td>Nemo, an adventurous young clownfish, is unexp...</td>\n",
              "      <td>85.688789</td>\n",
              "      <td>[{\"name\": \"Pixar Animation Studios\", \"id\": 3}]</td>\n",
              "      <td>[{\"iso_3166_1\": \"US\", \"name\": \"United States o...</td>\n",
              "      <td>5/30/2003</td>\n",
              "      <td>940335536.0</td>\n",
              "      <td>100.0</td>\n",
              "      <td>[{\"iso_639_1\": \"en\", \"name\": \"English\"}]</td>\n",
              "      <td>Released</td>\n",
              "      <td>There are 3.7 trillion fish in the ocean, they...</td>\n",
              "      <td>Finding Nemo</td>\n",
              "      <td>7.6</td>\n",
              "      <td>6122.0</td>\n",
              "    </tr>\n",
              "    <tr>\n",
              "      <th>3</th>\n",
              "      <td>[{\"cast_id\": 7, \"character\": \"Forrest Gump\", \"...</td>\n",
              "      <td>[{\"credit_id\": \"52fe420ec3a36847f800076b\", \"de...</td>\n",
              "      <td>55000000.0</td>\n",
              "      <td>[{\"id\": 35, \"name\": \"Comedy\"}, {\"id\": 18, \"nam...</td>\n",
              "      <td>NaN</td>\n",
              "      <td>[{\"id\": 422, \"name\": \"vietnam veteran\"}, {\"id\"...</td>\n",
              "      <td>en</td>\n",
              "      <td>Forrest Gump</td>\n",
              "      <td>A man with a low IQ has accomplished great thi...</td>\n",
              "      <td>138.133331</td>\n",
              "      <td>[{\"name\": \"Paramount Pictures\", \"id\": 4}]</td>\n",
              "      <td>[{\"iso_3166_1\": \"US\", \"name\": \"United States o...</td>\n",
              "      <td>07/06/1994</td>\n",
              "      <td>677945399.0</td>\n",
              "      <td>142.0</td>\n",
              "      <td>[{\"iso_639_1\": \"en\", \"name\": \"English\"}]</td>\n",
              "      <td>Released</td>\n",
              "      <td>The world will never be the same, once you've ...</td>\n",
              "      <td>Forrest Gump</td>\n",
              "      <td>8.2</td>\n",
              "      <td>7927.0</td>\n",
              "    </tr>\n",
              "    <tr>\n",
              "      <th>4</th>\n",
              "      <td>[{\"cast_id\": 6, \"character\": \"Lester Burnham\",...</td>\n",
              "      <td>[{\"credit_id\": \"52fe420ec3a36847f8000809\", \"de...</td>\n",
              "      <td>15000000.0</td>\n",
              "      <td>[{\"id\": 18, \"name\": \"Drama\"}]</td>\n",
              "      <td>http://www.dreamworks.com/ab/</td>\n",
              "      <td>[{\"id\": 255, \"name\": \"male nudity\"}, {\"id\": 29...</td>\n",
              "      <td>en</td>\n",
              "      <td>American Beauty</td>\n",
              "      <td>Lester Burnham, a depressed suburban father in...</td>\n",
              "      <td>80.878605</td>\n",
              "      <td>[{\"name\": \"DreamWorks SKG\", \"id\": 27}, {\"name\"...</td>\n",
              "      <td>[{\"iso_3166_1\": \"US\", \"name\": \"United States o...</td>\n",
              "      <td>9/15/1999</td>\n",
              "      <td>356296601.0</td>\n",
              "      <td>122.0</td>\n",
              "      <td>[{\"iso_639_1\": \"en\", \"name\": \"English\"}]</td>\n",
              "      <td>Released</td>\n",
              "      <td>Look closer.</td>\n",
              "      <td>American Beauty</td>\n",
              "      <td>7.9</td>\n",
              "      <td>3313.0</td>\n",
              "    </tr>\n",
              "    <tr>\n",
              "      <th>...</th>\n",
              "      <td>...</td>\n",
              "      <td>...</td>\n",
              "      <td>...</td>\n",
              "      <td>...</td>\n",
              "      <td>...</td>\n",
              "      <td>...</td>\n",
              "      <td>...</td>\n",
              "      <td>...</td>\n",
              "      <td>...</td>\n",
              "      <td>...</td>\n",
              "      <td>...</td>\n",
              "      <td>...</td>\n",
              "      <td>...</td>\n",
              "      <td>...</td>\n",
              "      <td>...</td>\n",
              "      <td>...</td>\n",
              "      <td>...</td>\n",
              "      <td>...</td>\n",
              "      <td>...</td>\n",
              "      <td>...</td>\n",
              "      <td>...</td>\n",
              "    </tr>\n",
              "    <tr>\n",
              "      <th>4798</th>\n",
              "      <td>[{\"cast_id\": 1, \"character\": \"Dawn\", \"credit_i...</td>\n",
              "      <td>[{\"credit_id\": \"582a4cdb9251417b1803dd47\", \"de...</td>\n",
              "      <td>NaN</td>\n",
              "      <td>NaN</td>\n",
              "      <td>NaN</td>\n",
              "      <td>NaN</td>\n",
              "      <td>NaN</td>\n",
              "      <td>NaN</td>\n",
              "      <td>NaN</td>\n",
              "      <td>NaN</td>\n",
              "      <td>NaN</td>\n",
              "      <td>NaN</td>\n",
              "      <td>NaN</td>\n",
              "      <td>NaN</td>\n",
              "      <td>NaN</td>\n",
              "      <td>NaN</td>\n",
              "      <td>NaN</td>\n",
              "      <td>NaN</td>\n",
              "      <td>NaN</td>\n",
              "      <td>NaN</td>\n",
              "      <td>NaN</td>\n",
              "    </tr>\n",
              "    <tr>\n",
              "      <th>4799</th>\n",
              "      <td>[{\"cast_id\": 4, \"character\": \"Smith Bhatnagar\"...</td>\n",
              "      <td>[{\"credit_id\": \"582e0bdfc3a368772600b6c1\", \"de...</td>\n",
              "      <td>NaN</td>\n",
              "      <td>NaN</td>\n",
              "      <td>NaN</td>\n",
              "      <td>NaN</td>\n",
              "      <td>NaN</td>\n",
              "      <td>NaN</td>\n",
              "      <td>NaN</td>\n",
              "      <td>NaN</td>\n",
              "      <td>NaN</td>\n",
              "      <td>NaN</td>\n",
              "      <td>NaN</td>\n",
              "      <td>NaN</td>\n",
              "      <td>NaN</td>\n",
              "      <td>NaN</td>\n",
              "      <td>NaN</td>\n",
              "      <td>NaN</td>\n",
              "      <td>NaN</td>\n",
              "      <td>NaN</td>\n",
              "      <td>NaN</td>\n",
              "    </tr>\n",
              "    <tr>\n",
              "      <th>4800</th>\n",
              "      <td>[{\"cast_id\": 3, \"character\": \"Amber\", \"credit_...</td>\n",
              "      <td>[{\"credit_id\": \"58713acfc3a3684f0a00a9ac\", \"de...</td>\n",
              "      <td>NaN</td>\n",
              "      <td>NaN</td>\n",
              "      <td>NaN</td>\n",
              "      <td>NaN</td>\n",
              "      <td>NaN</td>\n",
              "      <td>NaN</td>\n",
              "      <td>NaN</td>\n",
              "      <td>NaN</td>\n",
              "      <td>NaN</td>\n",
              "      <td>NaN</td>\n",
              "      <td>NaN</td>\n",
              "      <td>NaN</td>\n",
              "      <td>NaN</td>\n",
              "      <td>NaN</td>\n",
              "      <td>NaN</td>\n",
              "      <td>NaN</td>\n",
              "      <td>NaN</td>\n",
              "      <td>NaN</td>\n",
              "      <td>NaN</td>\n",
              "    </tr>\n",
              "    <tr>\n",
              "      <th>4801</th>\n",
              "      <td>[]</td>\n",
              "      <td>[]</td>\n",
              "      <td>0.0</td>\n",
              "      <td>[{\"id\": 10751, \"name\": \"Family\"}]</td>\n",
              "      <td>NaN</td>\n",
              "      <td>[]</td>\n",
              "      <td>en</td>\n",
              "      <td>Running Forever</td>\n",
              "      <td>After being estranged since her mother's death...</td>\n",
              "      <td>0.028756</td>\n",
              "      <td>[{\"name\": \"New Kingdom Pictures\", \"id\": 41671}]</td>\n",
              "      <td>[{\"iso_3166_1\": \"US\", \"name\": \"United States o...</td>\n",
              "      <td>10/27/2015</td>\n",
              "      <td>0.0</td>\n",
              "      <td>88.0</td>\n",
              "      <td>[]</td>\n",
              "      <td>Released</td>\n",
              "      <td>NaN</td>\n",
              "      <td>Running Forever</td>\n",
              "      <td>0.0</td>\n",
              "      <td>0.0</td>\n",
              "    </tr>\n",
              "    <tr>\n",
              "      <th>4802</th>\n",
              "      <td>[{\"cast_id\": 0, \"character\": \"Narrator\", \"cred...</td>\n",
              "      <td>[{\"credit_id\": \"592b25e4c3a368783e065a2f\", \"de...</td>\n",
              "      <td>NaN</td>\n",
              "      <td>NaN</td>\n",
              "      <td>NaN</td>\n",
              "      <td>NaN</td>\n",
              "      <td>NaN</td>\n",
              "      <td>NaN</td>\n",
              "      <td>NaN</td>\n",
              "      <td>NaN</td>\n",
              "      <td>NaN</td>\n",
              "      <td>NaN</td>\n",
              "      <td>NaN</td>\n",
              "      <td>NaN</td>\n",
              "      <td>NaN</td>\n",
              "      <td>NaN</td>\n",
              "      <td>NaN</td>\n",
              "      <td>NaN</td>\n",
              "      <td>NaN</td>\n",
              "      <td>NaN</td>\n",
              "      <td>NaN</td>\n",
              "    </tr>\n",
              "  </tbody>\n",
              "</table>\n",
              "<p>4803 rows × 21 columns</p>\n",
              "</div>"
            ],
            "text/plain": [
              "                                                   cast  ... vote_count\n",
              "0     [{\"cast_id\": 42, \"character\": \"Ted the Bellhop...  ...      530.0\n",
              "1     [{\"cast_id\": 3, \"character\": \"Luke Skywalker\",...  ...     6624.0\n",
              "2     [{\"cast_id\": 8, \"character\": \"Marlin (voice)\",...  ...     6122.0\n",
              "3     [{\"cast_id\": 7, \"character\": \"Forrest Gump\", \"...  ...     7927.0\n",
              "4     [{\"cast_id\": 6, \"character\": \"Lester Burnham\",...  ...     3313.0\n",
              "...                                                 ...  ...        ...\n",
              "4798  [{\"cast_id\": 1, \"character\": \"Dawn\", \"credit_i...  ...        NaN\n",
              "4799  [{\"cast_id\": 4, \"character\": \"Smith Bhatnagar\"...  ...        NaN\n",
              "4800  [{\"cast_id\": 3, \"character\": \"Amber\", \"credit_...  ...        NaN\n",
              "4801                                                 []  ...        0.0\n",
              "4802  [{\"cast_id\": 0, \"character\": \"Narrator\", \"cred...  ...        NaN\n",
              "\n",
              "[4803 rows x 21 columns]"
            ]
          },
          "metadata": {
            "tags": []
          },
          "execution_count": 684
        }
      ]
    },
    {
      "cell_type": "code",
      "metadata": {
        "id": "24G0xtNVGw3s",
        "colab_type": "code",
        "outputId": "c94c7abd-4b93-4392-81ba-8c46a01b66a0",
        "colab": {
          "base_uri": "https://localhost:8080/",
          "height": 119
        }
      },
      "source": [
        "movies.columns"
      ],
      "execution_count": 685,
      "outputs": [
        {
          "output_type": "execute_result",
          "data": {
            "text/plain": [
              "Index(['cast', 'crew', 'budget', 'genres', 'homepage', 'keywords',\n",
              "       'original_language', 'original_title', 'overview', 'popularity',\n",
              "       'production_companies', 'production_countries', 'release_date',\n",
              "       'revenue', 'runtime', 'spoken_languages', 'status', 'tagline', 'title',\n",
              "       'vote_average', 'vote_count'],\n",
              "      dtype='object')"
            ]
          },
          "metadata": {
            "tags": []
          },
          "execution_count": 685
        }
      ]
    },
    {
      "cell_type": "markdown",
      "metadata": {
        "id": "eSF6eKJLXUTN",
        "colab_type": "text"
      },
      "source": [
        "convert json shape coluns to json "
      ]
    },
    {
      "cell_type": "code",
      "metadata": {
        "id": "wlYVACgzKaXK",
        "colab_type": "code",
        "colab": {}
      },
      "source": [
        "movies[\"cast\"] = movies[\"cast\"].apply(json.loads)\n",
        "movies[\"crew\"] = movies[\"crew\"].apply(json.loads)\n",
        "movies[\"genres\"] = movies[movies.genres.notnull()][\"genres\"].apply(json.loads)\n",
        "movies[\"keywords\"] = movies[movies.keywords.notnull()][\"keywords\"].apply(json.loads)\n",
        "movies[\"production_companies\"] = movies[movies.production_companies.notnull()][\"production_companies\"].apply(json.loads)\n",
        "movies[\"production_countries\"] =movies[movies.production_countries.notnull()][\"production_countries\"].apply(json.loads)\n",
        "movies[\"spoken_languages\"] = movies[movies.spoken_languages.notnull()][\"spoken_languages\"].apply(json.loads)\n"
      ],
      "execution_count": 0,
      "outputs": []
    },
    {
      "cell_type": "markdown",
      "metadata": {
        "id": "OL-XiRi6d8tN",
        "colab_type": "text"
      },
      "source": [
        "Copy Data"
      ]
    },
    {
      "cell_type": "code",
      "metadata": {
        "id": "2XOwkIm1MymW",
        "colab_type": "code",
        "colab": {}
      },
      "source": [
        "movies_1 = movies.copy()\n"
      ],
      "execution_count": 0,
      "outputs": []
    },
    {
      "cell_type": "markdown",
      "metadata": {
        "id": "HJI7SIbTXtok",
        "colab_type": "text"
      },
      "source": [
        "Convert json columns to list of names "
      ]
    },
    {
      "cell_type": "code",
      "metadata": {
        "id": "vLJmqXKbM7Gq",
        "colab_type": "code",
        "colab": {}
      },
      "source": [
        "for cast,ind in zip(movies_1[\"cast\"],movies_1.index):\n",
        "  lis = list()\n",
        "  for i in range(len(cast)):\n",
        "    lis.append(cast[i][\"name\"])\n",
        "  movies_1.loc[ind,'cast'] = str(lis)\n",
        "  "
      ],
      "execution_count": 0,
      "outputs": []
    },
    {
      "cell_type": "code",
      "metadata": {
        "id": "r0eXx-rZaOI5",
        "colab_type": "code",
        "colab": {}
      },
      "source": [
        "for crew,ind in zip(movies_1[\"crew\"],movies_1.index):\n",
        "  lis = list()\n",
        "  for i in range(len(crew)):\n",
        "    if crew[i][\"job\"]==\"Director\":\n",
        "      lis.append(crew[i][\"name\"])\n",
        "  movies_1.loc[ind,'crew'] = str(lis)\n",
        "  "
      ],
      "execution_count": 0,
      "outputs": []
    },
    {
      "cell_type": "code",
      "metadata": {
        "id": "SAbES-BFby6n",
        "colab_type": "code",
        "colab": {}
      },
      "source": [
        "for genre,ind in zip(movies_1[\"genres\"],movies_1.index):\n",
        "  lis = list()\n",
        "  if isinstance(genre,float):\n",
        "    continue\n",
        "  for i in range(len(genre)):\n",
        "    lis.append(genre[i][\"name\"])\n",
        "  movies_1.loc[ind,'genres'] = str(lis)\n",
        "  "
      ],
      "execution_count": 0,
      "outputs": []
    },
    {
      "cell_type": "code",
      "metadata": {
        "id": "G8VXg1ipbrac",
        "colab_type": "code",
        "colab": {}
      },
      "source": [
        "for keyword,ind in zip(movies_1[\"keywords\"],movies_1.index):\n",
        "  lis = list()\n",
        "  if isinstance(keyword,float):\n",
        "    continue\n",
        "  for i in range(len(keyword)):\n",
        "    lis.append(keyword[i][\"name\"])\n",
        "  movies_1.loc[ind,'keywords'] = str(lis)\n",
        "  "
      ],
      "execution_count": 0,
      "outputs": []
    },
    {
      "cell_type": "code",
      "metadata": {
        "id": "eqJXejoqhv_A",
        "colab_type": "code",
        "colab": {}
      },
      "source": [
        "for p_company,ind in zip(movies_1[\"production_companies\"],movies_1.index):\n",
        "  lis = list()\n",
        "  if isinstance(p_company,float):\n",
        "    continue\n",
        "  for i in range(len(p_company)):\n",
        "    lis.append(p_company[i][\"name\"])\n",
        "  movies_1.loc[ind,'production_companies'] = str(lis)\n",
        "  "
      ],
      "execution_count": 0,
      "outputs": []
    },
    {
      "cell_type": "code",
      "metadata": {
        "id": "AD18pr38h_1k",
        "colab_type": "code",
        "colab": {}
      },
      "source": [
        "for p_country,ind in zip(movies_1[\"production_countries\"],movies_1.index):\n",
        "  lis = list()\n",
        "  if isinstance(p_country,float):\n",
        "    continue\n",
        "  for i in range(len(p_country)):\n",
        "    lis.append(p_country[i][\"name\"])\n",
        "  movies_1.loc[ind,'production_countries'] = str(lis)\n",
        "  "
      ],
      "execution_count": 0,
      "outputs": []
    },
    {
      "cell_type": "code",
      "metadata": {
        "id": "KyPdJtYxiieQ",
        "colab_type": "code",
        "colab": {}
      },
      "source": [
        "for s_language,ind in zip(movies_1[\"spoken_languages\"],movies_1.index):\n",
        "  lis = list()\n",
        "  if isinstance(s_language,float):\n",
        "    continue\n",
        "  for i in range(len(s_language)):\n",
        "    lis.append(s_language[i][\"name\"])\n",
        "  movies_1.loc[ind,'spoken_languages'] = str(lis)\n",
        "  "
      ],
      "execution_count": 0,
      "outputs": []
    },
    {
      "cell_type": "code",
      "metadata": {
        "id": "xrTJFOp04luy",
        "colab_type": "code",
        "colab": {
          "base_uri": "https://localhost:8080/",
          "height": 54
        },
        "outputId": "113184a8-f103-48d1-d95b-a2b8a41e7cac"
      },
      "source": [
        "movies_1[\"cast\"][4380]"
      ],
      "execution_count": 695,
      "outputs": [
        {
          "output_type": "execute_result",
          "data": {
            "text/plain": [
              "'[\\'Reese Witherspoon\\', \\'Laura Dern\\', \\'Thomas Sadoski\\', \\'Keene McRae\\', \\'Michiel Huisman\\', \\'W. Earl Brown\\', \\'Gaby Hoffmann\\', \\'Kevin Rankin\\', \\'Brian Van Holt\\', \\'Cliff De Young\\', \\'Mo McRae\\', \\'Will Cuddy\\', \\'Leigh Parker\\', \\'Nick Eversman\\', \\'Ray Mist\\', \\'Randy Schulman\\', \\'Cathryn de Prume\\', \\'Kurt Conroyd\\', \\'Ted de Chatelet\\', \\'Jeffree Newman\\', \\'Lorraine Bahr\\', \\'Jerry Carlton\\', \\'Kevin-Michael Moore\\', \\'Debra Pralle\\', \\'Gray Eubank\\', \\'Anne Sorce\\', \\'Charles Baker\\', \\'J.D. Evermore\\', \\'Beth Hall\\', \\'Jan Hoag\\', \\'Carlee McManus\\', \\'Art Alexakis\\', \\'Anne Gee Byrd\\', \"Evan O\\'Toole\", \\'Jeanine Jackson\\', \\'Jason Newell\\', \"Barry O\\'Neil\", \\'Richard Morris\\', \\'Bobbi Strayed Lindstrom\\', \\'Robert Alan Barnett\\', \\'William Nelson\\', \\'Tony Doupe\\', \\'Dan Considine\\', \\'Andrew Saunderson\\', \\'Greg James\\', \\'Orianna Herrman\\', \\'Brian Borcherdt\\', \\'Eric D. Johnson\\', \\'Matt Pascua\\', \\'Edric Carter\\', \\'Matthew Noyes\\', \\'John Dickerson,\\', \\'Denise McSweeny\\', \\'Alina Gatti\\', \\'Henry Shotwell\\', \\'Cheryl Strayed\\', \\'Vincent M. Biscione\\']'"
            ]
          },
          "metadata": {
            "tags": []
          },
          "execution_count": 695
        }
      ]
    },
    {
      "cell_type": "code",
      "metadata": {
        "id": "CIvWYNB9bhKn",
        "colab_type": "code",
        "outputId": "226a19db-1cbd-4c68-8133-3f1ed4534655",
        "colab": {
          "base_uri": "https://localhost:8080/",
          "height": 400
        }
      },
      "source": [
        "movies_1.head(3)"
      ],
      "execution_count": 696,
      "outputs": [
        {
          "output_type": "execute_result",
          "data": {
            "text/html": [
              "<div>\n",
              "<style scoped>\n",
              "    .dataframe tbody tr th:only-of-type {\n",
              "        vertical-align: middle;\n",
              "    }\n",
              "\n",
              "    .dataframe tbody tr th {\n",
              "        vertical-align: top;\n",
              "    }\n",
              "\n",
              "    .dataframe thead th {\n",
              "        text-align: right;\n",
              "    }\n",
              "</style>\n",
              "<table border=\"1\" class=\"dataframe\">\n",
              "  <thead>\n",
              "    <tr style=\"text-align: right;\">\n",
              "      <th></th>\n",
              "      <th>cast</th>\n",
              "      <th>crew</th>\n",
              "      <th>budget</th>\n",
              "      <th>genres</th>\n",
              "      <th>homepage</th>\n",
              "      <th>keywords</th>\n",
              "      <th>original_language</th>\n",
              "      <th>original_title</th>\n",
              "      <th>overview</th>\n",
              "      <th>popularity</th>\n",
              "      <th>production_companies</th>\n",
              "      <th>production_countries</th>\n",
              "      <th>release_date</th>\n",
              "      <th>revenue</th>\n",
              "      <th>runtime</th>\n",
              "      <th>spoken_languages</th>\n",
              "      <th>status</th>\n",
              "      <th>tagline</th>\n",
              "      <th>title</th>\n",
              "      <th>vote_average</th>\n",
              "      <th>vote_count</th>\n",
              "    </tr>\n",
              "  </thead>\n",
              "  <tbody>\n",
              "    <tr>\n",
              "      <th>0</th>\n",
              "      <td>['Tim Roth', 'Antonio Banderas', 'Jennifer Bea...</td>\n",
              "      <td>['Allison Anders', 'Alexandre Rockwell', 'Robe...</td>\n",
              "      <td>4000000.0</td>\n",
              "      <td>['Crime', 'Comedy']</td>\n",
              "      <td>NaN</td>\n",
              "      <td>['hotel', \"new year's eve\", 'witch', 'bet', 'h...</td>\n",
              "      <td>en</td>\n",
              "      <td>Four Rooms</td>\n",
              "      <td>It's Ted the Bellhop's first night on the job....</td>\n",
              "      <td>22.876230</td>\n",
              "      <td>['Miramax Films', 'A Band Apart']</td>\n",
              "      <td>['United States of America']</td>\n",
              "      <td>12/09/1995</td>\n",
              "      <td>4300000.0</td>\n",
              "      <td>98.0</td>\n",
              "      <td>['English']</td>\n",
              "      <td>Released</td>\n",
              "      <td>Twelve outrageous guests. Four scandalous requ...</td>\n",
              "      <td>Four Rooms</td>\n",
              "      <td>6.5</td>\n",
              "      <td>530.0</td>\n",
              "    </tr>\n",
              "    <tr>\n",
              "      <th>1</th>\n",
              "      <td>['Mark Hamill', 'Harrison Ford', 'Carrie Fishe...</td>\n",
              "      <td>['George Lucas']</td>\n",
              "      <td>11000000.0</td>\n",
              "      <td>['Adventure', 'Action', 'Science Fiction']</td>\n",
              "      <td>http://www.starwars.com/films/star-wars-episod...</td>\n",
              "      <td>['android', 'galaxy', 'hermit', 'death star', ...</td>\n",
              "      <td>en</td>\n",
              "      <td>Star Wars</td>\n",
              "      <td>Princess Leia is captured and held hostage by ...</td>\n",
              "      <td>126.393695</td>\n",
              "      <td>['Lucasfilm', 'Twentieth Century Fox Film Corp...</td>\n",
              "      <td>['United States of America']</td>\n",
              "      <td>5/25/1977</td>\n",
              "      <td>775398007.0</td>\n",
              "      <td>121.0</td>\n",
              "      <td>['English']</td>\n",
              "      <td>Released</td>\n",
              "      <td>A long time ago in a galaxy far, far away...</td>\n",
              "      <td>Star Wars</td>\n",
              "      <td>8.1</td>\n",
              "      <td>6624.0</td>\n",
              "    </tr>\n",
              "    <tr>\n",
              "      <th>2</th>\n",
              "      <td>['Albert Brooks', 'Ellen DeGeneres', 'Alexande...</td>\n",
              "      <td>['Andrew Stanton']</td>\n",
              "      <td>94000000.0</td>\n",
              "      <td>['Animation', 'Family']</td>\n",
              "      <td>http://movies.disney.com/finding-nemo</td>\n",
              "      <td>['father son relationship', 'harbor', 'underwa...</td>\n",
              "      <td>en</td>\n",
              "      <td>Finding Nemo</td>\n",
              "      <td>Nemo, an adventurous young clownfish, is unexp...</td>\n",
              "      <td>85.688789</td>\n",
              "      <td>['Pixar Animation Studios']</td>\n",
              "      <td>['United States of America']</td>\n",
              "      <td>5/30/2003</td>\n",
              "      <td>940335536.0</td>\n",
              "      <td>100.0</td>\n",
              "      <td>['English']</td>\n",
              "      <td>Released</td>\n",
              "      <td>There are 3.7 trillion fish in the ocean, they...</td>\n",
              "      <td>Finding Nemo</td>\n",
              "      <td>7.6</td>\n",
              "      <td>6122.0</td>\n",
              "    </tr>\n",
              "  </tbody>\n",
              "</table>\n",
              "</div>"
            ],
            "text/plain": [
              "                                                cast  ... vote_count\n",
              "0  ['Tim Roth', 'Antonio Banderas', 'Jennifer Bea...  ...      530.0\n",
              "1  ['Mark Hamill', 'Harrison Ford', 'Carrie Fishe...  ...     6624.0\n",
              "2  ['Albert Brooks', 'Ellen DeGeneres', 'Alexande...  ...     6122.0\n",
              "\n",
              "[3 rows x 21 columns]"
            ]
          },
          "metadata": {
            "tags": []
          },
          "execution_count": 696
        }
      ]
    },
    {
      "cell_type": "markdown",
      "metadata": {
        "id": "UiTlgOTMYPRp",
        "colab_type": "text"
      },
      "source": [
        "Convert strings to list "
      ]
    },
    {
      "cell_type": "code",
      "metadata": {
        "id": "89z1Twywhhb2",
        "colab_type": "code",
        "colab": {}
      },
      "source": [
        "movies_1['genres']=movies_1['genres'].str.strip('[]').str.replace(' ','').str.replace(\"'\",'')\n",
        "movies_1['genres']=movies_1['genres'].str.split(',')"
      ],
      "execution_count": 0,
      "outputs": []
    },
    {
      "cell_type": "code",
      "metadata": {
        "id": "-ltv4PsYutvZ",
        "colab_type": "code",
        "colab": {}
      },
      "source": [
        "movies_1['cast']=movies_1['cast'].str.strip('[]').str.replace(' ','').str.replace(\"'\",'')\n",
        "movies_1['cast']=movies_1['cast'].str.split(',')"
      ],
      "execution_count": 0,
      "outputs": []
    },
    {
      "cell_type": "code",
      "metadata": {
        "id": "Ody3FmbF3y0A",
        "colab_type": "code",
        "colab": {
          "base_uri": "https://localhost:8080/",
          "height": 1000
        },
        "outputId": "d474a1f7-e87f-4afb-afc9-35689cbf8793"
      },
      "source": [
        "movies_1[\"cast\"][4380]"
      ],
      "execution_count": 699,
      "outputs": [
        {
          "output_type": "execute_result",
          "data": {
            "text/plain": [
              "['ReeseWitherspoon',\n",
              " 'LauraDern',\n",
              " 'ThomasSadoski',\n",
              " 'KeeneMcRae',\n",
              " 'MichielHuisman',\n",
              " 'W.EarlBrown',\n",
              " 'GabyHoffmann',\n",
              " 'KevinRankin',\n",
              " 'BrianVanHolt',\n",
              " 'CliffDeYoung',\n",
              " 'MoMcRae',\n",
              " 'WillCuddy',\n",
              " 'LeighParker',\n",
              " 'NickEversman',\n",
              " 'RayMist',\n",
              " 'RandySchulman',\n",
              " 'CathryndePrume',\n",
              " 'KurtConroyd',\n",
              " 'TeddeChatelet',\n",
              " 'JeffreeNewman',\n",
              " 'LorraineBahr',\n",
              " 'JerryCarlton',\n",
              " 'Kevin-MichaelMoore',\n",
              " 'DebraPralle',\n",
              " 'GrayEubank',\n",
              " 'AnneSorce',\n",
              " 'CharlesBaker',\n",
              " 'J.D.Evermore',\n",
              " 'BethHall',\n",
              " 'JanHoag',\n",
              " 'CarleeMcManus',\n",
              " 'ArtAlexakis',\n",
              " 'AnneGeeByrd',\n",
              " '\"EvanOToole\"',\n",
              " 'JeanineJackson',\n",
              " 'JasonNewell',\n",
              " '\"BarryONeil\"',\n",
              " 'RichardMorris',\n",
              " 'BobbiStrayedLindstrom',\n",
              " 'RobertAlanBarnett',\n",
              " 'WilliamNelson',\n",
              " 'TonyDoupe',\n",
              " 'DanConsidine',\n",
              " 'AndrewSaunderson',\n",
              " 'GregJames',\n",
              " 'OriannaHerrman',\n",
              " 'BrianBorcherdt',\n",
              " 'EricD.Johnson',\n",
              " 'MattPascua',\n",
              " 'EdricCarter',\n",
              " 'MatthewNoyes',\n",
              " 'JohnDickerson',\n",
              " '',\n",
              " 'DeniseMcSweeny',\n",
              " 'AlinaGatti',\n",
              " 'HenryShotwell',\n",
              " 'CherylStrayed',\n",
              " 'VincentM.Biscione']"
            ]
          },
          "metadata": {
            "tags": []
          },
          "execution_count": 699
        }
      ]
    },
    {
      "cell_type": "code",
      "metadata": {
        "id": "ROOP9WXoDkUx",
        "colab_type": "code",
        "colab": {}
      },
      "source": [
        "movies_1[\"original_language\"] = movies_1['original_language'].str.replace(' ','').str.replace(\"'\",'')\n",
        "movies_1['original_language']=movies_1['original_language'].str.split(',')"
      ],
      "execution_count": 0,
      "outputs": []
    },
    {
      "cell_type": "code",
      "metadata": {
        "id": "M-aDB7W2Zjep",
        "colab_type": "code",
        "colab": {}
      },
      "source": [
        "movies_1['crew']=movies_1['crew'].str.strip('[]').str.replace(' ','').str.replace(\"'\",'')\n",
        "movies_1['crew']=movies_1['crew'].str.split(',')"
      ],
      "execution_count": 0,
      "outputs": []
    },
    {
      "cell_type": "code",
      "metadata": {
        "colab_type": "code",
        "id": "gcdr7QNi7ePc",
        "colab": {}
      },
      "source": [
        "movies_1['keywords']=movies_1['keywords'].str.strip('[]').str.replace(' ','').str.replace(\"'\",'')\n",
        "movies_1['keywords']=movies_1['keywords'].str.split(',')"
      ],
      "execution_count": 0,
      "outputs": []
    },
    {
      "cell_type": "code",
      "metadata": {
        "colab_type": "code",
        "id": "3aWAUwNh9Jld",
        "colab": {}
      },
      "source": [
        "movies_1['production_companies']=movies_1['production_companies'].str.strip('[]').str.replace(' ','').str.replace(\"'\",'')\n",
        "movies_1['production_companies']=movies_1['production_companies'].str.split(',')"
      ],
      "execution_count": 0,
      "outputs": []
    },
    {
      "cell_type": "code",
      "metadata": {
        "id": "co_EubeXaN4M",
        "colab_type": "code",
        "colab": {}
      },
      "source": [
        "movies_1['production_countries']=movies_1['production_countries'].str.strip('[]').str.replace(' ','').str.replace(\"'\",'')\n",
        "movies_1['production_countries']=movies_1['production_countries'].str.split(',')"
      ],
      "execution_count": 0,
      "outputs": []
    },
    {
      "cell_type": "code",
      "metadata": {
        "id": "VAtCFUTQaTyu",
        "colab_type": "code",
        "colab": {}
      },
      "source": [
        "movies_1['spoken_languages']=movies_1['spoken_languages'].str.strip('[]').str.replace(' ','').str.replace(\"'\",'')\n",
        "movies_1['spoken_languages']=movies_1['spoken_languages'].str.split(',')"
      ],
      "execution_count": 0,
      "outputs": []
    },
    {
      "cell_type": "code",
      "metadata": {
        "id": "lPEhzoXNpPnV",
        "colab_type": "code",
        "outputId": "b28c2790-5cbf-493e-e34c-ba5d52a656f3",
        "colab": {
          "base_uri": "https://localhost:8080/",
          "height": 185
        }
      },
      "source": [
        "movies_1.head(1)"
      ],
      "execution_count": 706,
      "outputs": [
        {
          "output_type": "execute_result",
          "data": {
            "text/html": [
              "<div>\n",
              "<style scoped>\n",
              "    .dataframe tbody tr th:only-of-type {\n",
              "        vertical-align: middle;\n",
              "    }\n",
              "\n",
              "    .dataframe tbody tr th {\n",
              "        vertical-align: top;\n",
              "    }\n",
              "\n",
              "    .dataframe thead th {\n",
              "        text-align: right;\n",
              "    }\n",
              "</style>\n",
              "<table border=\"1\" class=\"dataframe\">\n",
              "  <thead>\n",
              "    <tr style=\"text-align: right;\">\n",
              "      <th></th>\n",
              "      <th>cast</th>\n",
              "      <th>crew</th>\n",
              "      <th>budget</th>\n",
              "      <th>genres</th>\n",
              "      <th>homepage</th>\n",
              "      <th>keywords</th>\n",
              "      <th>original_language</th>\n",
              "      <th>original_title</th>\n",
              "      <th>overview</th>\n",
              "      <th>popularity</th>\n",
              "      <th>production_companies</th>\n",
              "      <th>production_countries</th>\n",
              "      <th>release_date</th>\n",
              "      <th>revenue</th>\n",
              "      <th>runtime</th>\n",
              "      <th>spoken_languages</th>\n",
              "      <th>status</th>\n",
              "      <th>tagline</th>\n",
              "      <th>title</th>\n",
              "      <th>vote_average</th>\n",
              "      <th>vote_count</th>\n",
              "    </tr>\n",
              "  </thead>\n",
              "  <tbody>\n",
              "    <tr>\n",
              "      <th>0</th>\n",
              "      <td>[TimRoth, AntonioBanderas, JenniferBeals, Mado...</td>\n",
              "      <td>[AllisonAnders, AlexandreRockwell, RobertRodri...</td>\n",
              "      <td>4000000.0</td>\n",
              "      <td>[Crime, Comedy]</td>\n",
              "      <td>NaN</td>\n",
              "      <td>[hotel, \"newyearseve\", witch, bet, hotelroom, ...</td>\n",
              "      <td>[en]</td>\n",
              "      <td>Four Rooms</td>\n",
              "      <td>It's Ted the Bellhop's first night on the job....</td>\n",
              "      <td>22.87623</td>\n",
              "      <td>[MiramaxFilms, ABandApart]</td>\n",
              "      <td>[UnitedStatesofAmerica]</td>\n",
              "      <td>12/09/1995</td>\n",
              "      <td>4300000.0</td>\n",
              "      <td>98.0</td>\n",
              "      <td>[English]</td>\n",
              "      <td>Released</td>\n",
              "      <td>Twelve outrageous guests. Four scandalous requ...</td>\n",
              "      <td>Four Rooms</td>\n",
              "      <td>6.5</td>\n",
              "      <td>530.0</td>\n",
              "    </tr>\n",
              "  </tbody>\n",
              "</table>\n",
              "</div>"
            ],
            "text/plain": [
              "                                                cast  ... vote_count\n",
              "0  [TimRoth, AntonioBanderas, JenniferBeals, Mado...  ...      530.0\n",
              "\n",
              "[1 rows x 21 columns]"
            ]
          },
          "metadata": {
            "tags": []
          },
          "execution_count": 706
        }
      ]
    },
    {
      "cell_type": "markdown",
      "metadata": {
        "id": "ce2U7zdNba2M",
        "colab_type": "text"
      },
      "source": [
        "copy of data"
      ]
    },
    {
      "cell_type": "code",
      "metadata": {
        "id": "8JWsH_aMbZ--",
        "colab_type": "code",
        "colab": {}
      },
      "source": [
        "movies_list=movies_1.copy()"
      ],
      "execution_count": 0,
      "outputs": []
    },
    {
      "cell_type": "code",
      "metadata": {
        "colab_type": "code",
        "id": "x8gWnPvi7ePi",
        "colab": {}
      },
      "source": [
        "keywords_list = dict()\n",
        "for index,row in movies_1.iterrows():\n",
        "    if isinstance(row[\"keywords\"],float):continue\n",
        "    if str(row[\"vote_average\"])=='nan': continue\n",
        "    if row[\"keywords\"] == \"\":continue\n",
        "    for keyword in row[\"keywords\"]:\n",
        "      if keyword == \"\":continue\n",
        "      if keyword in keywords_list.keys() :\n",
        "        temp = keywords_list[keyword]\n",
        "        temp.append(row[\"vote_average\"])\n",
        "        keywords_list[keyword] = temp\n",
        "      else :\n",
        "        temp=[]\n",
        "        temp.append(row[\"vote_average\"])\n",
        "        keywords_list[keyword]=temp\n"
      ],
      "execution_count": 0,
      "outputs": []
    },
    {
      "cell_type": "code",
      "metadata": {
        "id": "HFxLdn7TCrb2",
        "colab_type": "code",
        "colab": {}
      },
      "source": [
        "o_lang_list = dict()\n",
        "for index,row in movies_1.iterrows():\n",
        "    if isinstance(row[\"original_language\"],float):continue\n",
        "    if str(row[\"vote_average\"])=='nan': continue\n",
        "    if row[\"original_language\"] == \"\":continue\n",
        "    for o_lang in row[\"original_language\"]:\n",
        "      if o_lang == \"\":continue\n",
        "      if o_lang in o_lang_list.keys() :\n",
        "        temp = o_lang_list[o_lang]\n",
        "        temp.append(row[\"vote_average\"])\n",
        "        o_lang_list[o_lang] = temp\n",
        "      else :\n",
        "        temp=[]\n",
        "        temp.append(row[\"vote_average\"])\n",
        "        o_lang_list[o_lang]=temp"
      ],
      "execution_count": 0,
      "outputs": []
    },
    {
      "cell_type": "code",
      "metadata": {
        "colab_type": "code",
        "id": "q0EhlOln9Jlg",
        "colab": {}
      },
      "source": [
        "p_companies_list = dict()\n",
        "for index,row in movies_1.iterrows():\n",
        "    if isinstance(row[\"production_companies\"],float):continue\n",
        "    if str(row[\"vote_average\"])=='nan': continue\n",
        "    if row[\"production_companies\"] == []:continue\n",
        "    for p_company in row[\"production_companies\"]:\n",
        "      if p_company == \"\":continue\n",
        "      if p_company in p_companies_list.keys() :\n",
        "        temp = p_companies_list[p_company]\n",
        "        temp.append(row[\"vote_average\"])\n",
        "        p_companies_list[p_company] = temp\n",
        "      else :\n",
        "        temp=[]\n",
        "        temp.append(row[\"vote_average\"])\n",
        "        p_companies_list[p_company]=temp\n"
      ],
      "execution_count": 0,
      "outputs": []
    },
    {
      "cell_type": "code",
      "metadata": {
        "id": "VbZLpQTLffT9",
        "colab_type": "code",
        "colab": {}
      },
      "source": [
        "cast_list = dict()\n",
        "for index,row in movies_1.iterrows():\n",
        "    if isinstance(row[\"cast\"],float):continue\n",
        "    if str(row[\"vote_average\"])=='nan': continue\n",
        "    if row[\"cast\"] == [\"\"]:continue\n",
        "    if row[\"cast\"] == []:continue\n",
        "    if row[\"cast\"] == \"\":continue\n",
        "    for cast in row[\"cast\"]:\n",
        "      if cast == \"\":continue\n",
        "      if cast in cast_list.keys() :\n",
        "        temp = cast_list[cast]\n",
        "        temp.append(row[\"vote_average\"])\n",
        "        cast_list[cast] = temp\n",
        "      else :\n",
        "        temp=[]\n",
        "        temp.append(row[\"vote_average\"])\n",
        "        cast_list[cast]=temp\n"
      ],
      "execution_count": 0,
      "outputs": []
    },
    {
      "cell_type": "code",
      "metadata": {
        "id": "JuZsWLFjf6yJ",
        "colab_type": "code",
        "colab": {}
      },
      "source": [
        "crew_list = dict()\n",
        "for index,row in movies_1.iterrows():\n",
        "    if isinstance(row[\"crew\"],float):continue\n",
        "    if str(row[\"vote_average\"])=='nan': continue\n",
        "    if row[\"crew\"] == []:continue\n",
        "    for crew in row[\"crew\"]:\n",
        "      if crew == \"\":continue\n",
        "      if crew in crew_list.keys() :\n",
        "        temp = crew_list[crew]\n",
        "        temp.append(row[\"vote_average\"])\n",
        "        crew_list[crew] = temp\n",
        "      else :\n",
        "        temp=[]\n",
        "        temp.append(row[\"vote_average\"])\n",
        "        crew_list[crew]=temp\n"
      ],
      "execution_count": 0,
      "outputs": []
    },
    {
      "cell_type": "code",
      "metadata": {
        "id": "_9uzVbh0gVvU",
        "colab_type": "code",
        "colab": {}
      },
      "source": [
        "genres_list = dict()\n",
        "for index,row in movies_1.iterrows():\n",
        "    if isinstance(row[\"genres\"],float):continue\n",
        "    if str(row[\"vote_average\"])=='nan': continue\n",
        "    if row[\"genres\"] == []:continue\n",
        "    for genres in row[\"genres\"]:\n",
        "      if genres == \"\":continue\n",
        "      if genres in genres_list.keys() :\n",
        "        temp = genres_list[genres]\n",
        "        temp.append(row[\"vote_average\"])\n",
        "        genres_list[genres] = temp\n",
        "      else :\n",
        "        temp=[]\n",
        "        temp.append(row[\"vote_average\"])\n",
        "        genres_list[genres]=temp\n"
      ],
      "execution_count": 0,
      "outputs": []
    },
    {
      "cell_type": "code",
      "metadata": {
        "id": "t10XckUegmst",
        "colab_type": "code",
        "colab": {}
      },
      "source": [
        "p_countries_list = dict()\n",
        "for index,row in movies_1.iterrows():\n",
        "    if isinstance(row[\"production_countries\"],float):continue\n",
        "    if str(row[\"vote_average\"])=='nan': continue\n",
        "    if row[\"production_countries\"] == []:continue\n",
        "    for p_countries in row[\"production_countries\"]:\n",
        "      if p_countries == \"\":continue\n",
        "      if p_countries in p_countries_list.keys() :\n",
        "        temp = p_countries_list[p_countries]\n",
        "        temp.append(row[\"vote_average\"])\n",
        "        p_countries_list[p_countries] = temp\n",
        "      else :\n",
        "        temp=[]\n",
        "        temp.append(row[\"vote_average\"])\n",
        "        p_countries_list[p_countries]=temp\n"
      ],
      "execution_count": 0,
      "outputs": []
    },
    {
      "cell_type": "code",
      "metadata": {
        "id": "i3JNNtrmhAtB",
        "colab_type": "code",
        "colab": {}
      },
      "source": [
        "s_lang_list = dict()\n",
        "for index,row in movies_1.iterrows():\n",
        "    if isinstance(row[\"spoken_languages\"],float): continue\n",
        "    if str(row[\"vote_average\"])=='nan': continue\n",
        "    if row[\"spoken_languages\"] == []:continue\n",
        "    for s_lang in row[\"spoken_languages\"]:\n",
        "      if s_lang == \"\":continue\n",
        "      if s_lang in s_lang_list.keys() :\n",
        "        temp = s_lang_list[s_lang]\n",
        "        temp.append(row[\"vote_average\"])\n",
        "        s_lang_list[s_lang] = temp\n",
        "      else :\n",
        "        temp=[]\n",
        "        temp.append(row[\"vote_average\"])\n",
        "        s_lang_list[s_lang]=temp\n"
      ],
      "execution_count": 0,
      "outputs": []
    },
    {
      "cell_type": "code",
      "metadata": {
        "id": "1HU1tolFj-PP",
        "colab_type": "code",
        "colab": {}
      },
      "source": [
        "def reject_outliers(data, m=2):\n",
        "    return data[abs(data - np.mean(data)) <= m * np.std(data)]"
      ],
      "execution_count": 0,
      "outputs": []
    },
    {
      "cell_type": "code",
      "metadata": {
        "id": "9MOpuOP0e5iA",
        "colab_type": "code",
        "colab": {}
      },
      "source": [
        "def encode(dic):\n",
        "  for i in dic.keys():\n",
        "    lis = dic[i]\n",
        "    lis =[ii for ii in lis if str(ii)!='nan']\n",
        "    lis = reject_outliers(np.array(lis))\n",
        "    dic[i] = np.mean(lis)\n",
        "  return dic\n",
        "\n"
      ],
      "execution_count": 0,
      "outputs": []
    },
    {
      "cell_type": "code",
      "metadata": {
        "id": "QPEHvT0FvbqC",
        "colab_type": "code",
        "colab": {
          "base_uri": "https://localhost:8080/",
          "height": 221
        },
        "outputId": "98e9dd70-756c-4a2c-b7fa-34823231768b"
      },
      "source": [
        "movies_1[\"cast\"][4798]"
      ],
      "execution_count": 718,
      "outputs": [
        {
          "output_type": "execute_result",
          "data": {
            "text/plain": [
              "['LisaHartCarroll',\n",
              " 'MichaelDesBarres',\n",
              " 'PaulDrake',\n",
              " 'LauraHarrington',\n",
              " 'ThomMathews',\n",
              " 'CarolynSeymour',\n",
              " 'LeonardTermo',\n",
              " 'NorbertWeisser',\n",
              " 'LydieDenier',\n",
              " 'ChristinaWhitaker',\n",
              " 'EstherElise',\n",
              " 'DebraLamb']"
            ]
          },
          "metadata": {
            "tags": []
          },
          "execution_count": 718
        }
      ]
    },
    {
      "cell_type": "code",
      "metadata": {
        "id": "ftmV1yFK0gf2",
        "colab_type": "code",
        "colab": {
          "base_uri": "https://localhost:8080/",
          "height": 34
        },
        "outputId": "c9c15474-d7c1-4cc7-8bea-66674cc95004"
      },
      "source": [
        "l = movies_1[movies_1[\"vote_average\"]==7]\n",
        "[i for i in (l.index) if \"\" in l[\"cast\"][i]] "
      ],
      "execution_count": 719,
      "outputs": [
        {
          "output_type": "execute_result",
          "data": {
            "text/plain": [
              "[4380]"
            ]
          },
          "metadata": {
            "tags": []
          },
          "execution_count": 719
        }
      ]
    },
    {
      "cell_type": "code",
      "metadata": {
        "id": "w8f-5Rn1vxoE",
        "colab_type": "code",
        "colab": {
          "base_uri": "https://localhost:8080/",
          "height": 163
        },
        "outputId": "6e6e89d2-ca8b-4b6c-caa8-b2e9729b3cfe"
      },
      "source": [
        "cast_list[\"\"]"
      ],
      "execution_count": 720,
      "outputs": [
        {
          "output_type": "error",
          "ename": "KeyError",
          "evalue": "ignored",
          "traceback": [
            "\u001b[0;31m---------------------------------------------------------------------------\u001b[0m",
            "\u001b[0;31mKeyError\u001b[0m                                  Traceback (most recent call last)",
            "\u001b[0;32m<ipython-input-720-d133f559ce9f>\u001b[0m in \u001b[0;36m<module>\u001b[0;34m()\u001b[0m\n\u001b[0;32m----> 1\u001b[0;31m \u001b[0mcast_list\u001b[0m\u001b[0;34m[\u001b[0m\u001b[0;34m\"\"\u001b[0m\u001b[0;34m]\u001b[0m\u001b[0;34m\u001b[0m\u001b[0;34m\u001b[0m\u001b[0m\n\u001b[0m",
            "\u001b[0;31mKeyError\u001b[0m: ''"
          ]
        }
      ]
    },
    {
      "cell_type": "code",
      "metadata": {
        "id": "zVBW1UaWlYsy",
        "colab_type": "code",
        "colab": {}
      },
      "source": [
        "cast_list = encode(cast_list)\n",
        "crew_list = encode(crew_list)\n",
        "genres_list = encode(genres_list)\n",
        "keywords_list = encode(keywords_list)\n",
        "p_countries_list = encode(p_countries_list)\n",
        "p_companies_list = encode(p_companies_list)\n",
        "s_lang_list = encode(s_lang_list)"
      ],
      "execution_count": 0,
      "outputs": []
    },
    {
      "cell_type": "code",
      "metadata": {
        "id": "q6MWg7OlDBh2",
        "colab_type": "code",
        "colab": {}
      },
      "source": [
        "o_lang_list = encode(o_lang_list)"
      ],
      "execution_count": 0,
      "outputs": []
    },
    {
      "cell_type": "code",
      "metadata": {
        "id": "XSy5BFElD-SM",
        "colab_type": "code",
        "colab": {
          "base_uri": "https://localhost:8080/",
          "height": 408
        },
        "outputId": "f5d96fb4-78da-4755-ccc7-84bdbbc9ac6d"
      },
      "source": [
        "o_lang_list"
      ],
      "execution_count": 723,
      "outputs": [
        {
          "output_type": "execute_result",
          "data": {
            "text/plain": [
              "{'cn': 6.4363636363636365,\n",
              " 'cs': 5.65,\n",
              " 'da': 6.8999999999999995,\n",
              " 'de': 6.678571428571429,\n",
              " 'en': 6.217029933158965,\n",
              " 'es': 6.623529411764705,\n",
              " 'fr': 6.6686274509803924,\n",
              " 'hi': 6.433333333333333,\n",
              " 'hu': 6.5,\n",
              " 'is': 6.9,\n",
              " 'it': 6.9624999999999995,\n",
              " 'ja': 7.116666666666667,\n",
              " 'ko': 6.822222222222222,\n",
              " 'nl': 7.233333333333333,\n",
              " 'pt': 7.099999999999999,\n",
              " 'ru': 6.26,\n",
              " 'sv': 6.866666666666667,\n",
              " 'ta': 5.0,\n",
              " 'te': 7.5,\n",
              " 'th': 5.966666666666666,\n",
              " 'tr': 4.3,\n",
              " 'xx': 7.1,\n",
              " 'zh': 6.343478260869565}"
            ]
          },
          "metadata": {
            "tags": []
          },
          "execution_count": 723
        }
      ]
    },
    {
      "cell_type": "code",
      "metadata": {
        "id": "dNDPLot-DUZe",
        "colab_type": "code",
        "colab": {
          "base_uri": "https://localhost:8080/",
          "height": 34
        },
        "outputId": "699ee259-28c4-4559-8ea8-090f000cd58e"
      },
      "source": [
        "movies_1[\"original_language\"][0][0]"
      ],
      "execution_count": 724,
      "outputs": [
        {
          "output_type": "execute_result",
          "data": {
            "text/plain": [
              "'en'"
            ]
          },
          "metadata": {
            "tags": []
          },
          "execution_count": 724
        }
      ]
    },
    {
      "cell_type": "code",
      "metadata": {
        "id": "KsfYZCK-oGaM",
        "colab_type": "code",
        "colab": {
          "base_uri": "https://localhost:8080/",
          "height": 680
        },
        "outputId": "9bf853b0-3ee0-4e41-a812-000fbe55128d"
      },
      "source": [
        "for i in range(movies_1.shape[0]):\n",
        "  movies_1[\"cast\"][i]=list(cast_list[_] for _ in movies_1[\"cast\"][i] if _  in cast_list.keys() )\n",
        "  movies_1[\"crew\"][i]=list(crew_list[_] for _ in movies_1[\"crew\"][i] if _  in crew_list.keys())\n",
        "  if isinstance(movies_1[\"genres\"][i],float):continue\n",
        "  movies_1[\"genres\"][i]=list(genres_list[_] for _ in movies_1[\"genres\"][i] if _  in genres_list.keys())\n",
        "\n",
        "  if isinstance(movies_1[\"original_language\"][i],float):continue\n",
        "  movies_1[\"original_language\"][i]=list(o_lang_list[_] for _ in movies_1[\"original_language\"][i] if _  in o_lang_list.keys())\n",
        "\n",
        "  if isinstance(movies_1[\"keywords\"][i],float):continue\n",
        "  movies_1[\"keywords\"][i]=list(keywords_list[_] for _ in movies_1[\"keywords\"][i] if _ in keywords_list.keys())\n",
        "  if isinstance(movies_1[\"production_companies\"][i],float):continue\n",
        "  movies_1[\"production_companies\"][i]=list(p_companies_list[_] for _ in movies_1[\"production_companies\"][i] if _  in p_companies_list.keys())\n",
        "  if isinstance(movies_1[\"production_countries\"][i],float):continue\n",
        "  movies_1[\"production_countries\"][i]=list(p_countries_list[_] for _ in movies_1[\"production_countries\"][i] if _  in p_countries_list.keys())\n",
        "  if isinstance(movies_1[\"spoken_languages\"][i],float):continue\n",
        "  movies_1[\"spoken_languages\"][i]=list(s_lang_list[_] for _ in movies_1[\"spoken_languages\"][i] if _  in s_lang_list.keys())\n",
        "  "
      ],
      "execution_count": 725,
      "outputs": [
        {
          "output_type": "stream",
          "text": [
            "/usr/local/lib/python3.6/dist-packages/ipykernel_launcher.py:2: SettingWithCopyWarning: \n",
            "A value is trying to be set on a copy of a slice from a DataFrame\n",
            "\n",
            "See the caveats in the documentation: http://pandas.pydata.org/pandas-docs/stable/user_guide/indexing.html#returning-a-view-versus-a-copy\n",
            "  \n",
            "/usr/local/lib/python3.6/dist-packages/ipykernel_launcher.py:3: SettingWithCopyWarning: \n",
            "A value is trying to be set on a copy of a slice from a DataFrame\n",
            "\n",
            "See the caveats in the documentation: http://pandas.pydata.org/pandas-docs/stable/user_guide/indexing.html#returning-a-view-versus-a-copy\n",
            "  This is separate from the ipykernel package so we can avoid doing imports until\n",
            "/usr/local/lib/python3.6/dist-packages/ipykernel_launcher.py:5: SettingWithCopyWarning: \n",
            "A value is trying to be set on a copy of a slice from a DataFrame\n",
            "\n",
            "See the caveats in the documentation: http://pandas.pydata.org/pandas-docs/stable/user_guide/indexing.html#returning-a-view-versus-a-copy\n",
            "  \"\"\"\n",
            "/usr/local/lib/python3.6/dist-packages/ipykernel_launcher.py:8: SettingWithCopyWarning: \n",
            "A value is trying to be set on a copy of a slice from a DataFrame\n",
            "\n",
            "See the caveats in the documentation: http://pandas.pydata.org/pandas-docs/stable/user_guide/indexing.html#returning-a-view-versus-a-copy\n",
            "  \n",
            "/usr/local/lib/python3.6/dist-packages/ipykernel_launcher.py:11: SettingWithCopyWarning: \n",
            "A value is trying to be set on a copy of a slice from a DataFrame\n",
            "\n",
            "See the caveats in the documentation: http://pandas.pydata.org/pandas-docs/stable/user_guide/indexing.html#returning-a-view-versus-a-copy\n",
            "  # This is added back by InteractiveShellApp.init_path()\n",
            "/usr/local/lib/python3.6/dist-packages/ipykernel_launcher.py:13: SettingWithCopyWarning: \n",
            "A value is trying to be set on a copy of a slice from a DataFrame\n",
            "\n",
            "See the caveats in the documentation: http://pandas.pydata.org/pandas-docs/stable/user_guide/indexing.html#returning-a-view-versus-a-copy\n",
            "  del sys.path[0]\n",
            "/usr/local/lib/python3.6/dist-packages/ipykernel_launcher.py:15: SettingWithCopyWarning: \n",
            "A value is trying to be set on a copy of a slice from a DataFrame\n",
            "\n",
            "See the caveats in the documentation: http://pandas.pydata.org/pandas-docs/stable/user_guide/indexing.html#returning-a-view-versus-a-copy\n",
            "  from ipykernel import kernelapp as app\n",
            "/usr/local/lib/python3.6/dist-packages/ipykernel_launcher.py:17: SettingWithCopyWarning: \n",
            "A value is trying to be set on a copy of a slice from a DataFrame\n",
            "\n",
            "See the caveats in the documentation: http://pandas.pydata.org/pandas-docs/stable/user_guide/indexing.html#returning-a-view-versus-a-copy\n"
          ],
          "name": "stderr"
        }
      ]
    },
    {
      "cell_type": "code",
      "metadata": {
        "id": "caL32jju3c8j",
        "colab_type": "code",
        "colab": {}
      },
      "source": [
        "movies_2 = movies_1.copy()"
      ],
      "execution_count": 0,
      "outputs": []
    },
    {
      "cell_type": "code",
      "metadata": {
        "id": "C5l1lxjbvGCn",
        "colab_type": "code",
        "colab": {
          "base_uri": "https://localhost:8080/",
          "height": 1000
        },
        "outputId": "5b72563f-3336-471b-93e6-31f3cfb2f0bf"
      },
      "source": [
        "movies_list[\"cast\"][4380]"
      ],
      "execution_count": 727,
      "outputs": [
        {
          "output_type": "execute_result",
          "data": {
            "text/plain": [
              "['ReeseWitherspoon',\n",
              " 'LauraDern',\n",
              " 'ThomasSadoski',\n",
              " 'KeeneMcRae',\n",
              " 'MichielHuisman',\n",
              " 'W.EarlBrown',\n",
              " 'GabyHoffmann',\n",
              " 'KevinRankin',\n",
              " 'BrianVanHolt',\n",
              " 'CliffDeYoung',\n",
              " 'MoMcRae',\n",
              " 'WillCuddy',\n",
              " 'LeighParker',\n",
              " 'NickEversman',\n",
              " 'RayMist',\n",
              " 'RandySchulman',\n",
              " 'CathryndePrume',\n",
              " 'KurtConroyd',\n",
              " 'TeddeChatelet',\n",
              " 'JeffreeNewman',\n",
              " 'LorraineBahr',\n",
              " 'JerryCarlton',\n",
              " 'Kevin-MichaelMoore',\n",
              " 'DebraPralle',\n",
              " 'GrayEubank',\n",
              " 'AnneSorce',\n",
              " 'CharlesBaker',\n",
              " 'J.D.Evermore',\n",
              " 'BethHall',\n",
              " 'JanHoag',\n",
              " 'CarleeMcManus',\n",
              " 'ArtAlexakis',\n",
              " 'AnneGeeByrd',\n",
              " '\"EvanOToole\"',\n",
              " 'JeanineJackson',\n",
              " 'JasonNewell',\n",
              " '\"BarryONeil\"',\n",
              " 'RichardMorris',\n",
              " 'BobbiStrayedLindstrom',\n",
              " 'RobertAlanBarnett',\n",
              " 'WilliamNelson',\n",
              " 'TonyDoupe',\n",
              " 'DanConsidine',\n",
              " 'AndrewSaunderson',\n",
              " 'GregJames',\n",
              " 'OriannaHerrman',\n",
              " 'BrianBorcherdt',\n",
              " 'EricD.Johnson',\n",
              " 'MattPascua',\n",
              " 'EdricCarter',\n",
              " 'MatthewNoyes',\n",
              " 'JohnDickerson',\n",
              " '',\n",
              " 'DeniseMcSweeny',\n",
              " 'AlinaGatti',\n",
              " 'HenryShotwell',\n",
              " 'CherylStrayed',\n",
              " 'VincentM.Biscione']"
            ]
          },
          "metadata": {
            "tags": []
          },
          "execution_count": 727
        }
      ]
    },
    {
      "cell_type": "code",
      "metadata": {
        "id": "PCVTZl5jyFnA",
        "colab_type": "code",
        "colab": {
          "base_uri": "https://localhost:8080/",
          "height": 932
        },
        "outputId": "9be5a590-67d9-4f25-eb78-cb44f13c8f0a"
      },
      "source": [
        "movies_2"
      ],
      "execution_count": 728,
      "outputs": [
        {
          "output_type": "execute_result",
          "data": {
            "text/html": [
              "<div>\n",
              "<style scoped>\n",
              "    .dataframe tbody tr th:only-of-type {\n",
              "        vertical-align: middle;\n",
              "    }\n",
              "\n",
              "    .dataframe tbody tr th {\n",
              "        vertical-align: top;\n",
              "    }\n",
              "\n",
              "    .dataframe thead th {\n",
              "        text-align: right;\n",
              "    }\n",
              "</style>\n",
              "<table border=\"1\" class=\"dataframe\">\n",
              "  <thead>\n",
              "    <tr style=\"text-align: right;\">\n",
              "      <th></th>\n",
              "      <th>cast</th>\n",
              "      <th>crew</th>\n",
              "      <th>budget</th>\n",
              "      <th>genres</th>\n",
              "      <th>homepage</th>\n",
              "      <th>keywords</th>\n",
              "      <th>original_language</th>\n",
              "      <th>original_title</th>\n",
              "      <th>overview</th>\n",
              "      <th>popularity</th>\n",
              "      <th>production_companies</th>\n",
              "      <th>production_countries</th>\n",
              "      <th>release_date</th>\n",
              "      <th>revenue</th>\n",
              "      <th>runtime</th>\n",
              "      <th>spoken_languages</th>\n",
              "      <th>status</th>\n",
              "      <th>tagline</th>\n",
              "      <th>title</th>\n",
              "      <th>vote_average</th>\n",
              "      <th>vote_count</th>\n",
              "    </tr>\n",
              "  </thead>\n",
              "  <tbody>\n",
              "    <tr>\n",
              "      <th>0</th>\n",
              "      <td>[6.159999999999999, 6.057142857142858, 6.01666...</td>\n",
              "      <td>[6.5, 6.5, 5.86875, 7.5]</td>\n",
              "      <td>4000000.0</td>\n",
              "      <td>[6.329824561403509, 6.010275502606106]</td>\n",
              "      <td>NaN</td>\n",
              "      <td>[6.3428571428571425, 5.814285714285715, 6.3999...</td>\n",
              "      <td>[6.217029933158965]</td>\n",
              "      <td>Four Rooms</td>\n",
              "      <td>It's Ted the Bellhop's first night on the job....</td>\n",
              "      <td>22.876230</td>\n",
              "      <td>[6.4868421052631575, 7.483333333333333]</td>\n",
              "      <td>[6.211524992040752]</td>\n",
              "      <td>12/09/1995</td>\n",
              "      <td>4300000.0</td>\n",
              "      <td>98.0</td>\n",
              "      <td>[6.225273459988485]</td>\n",
              "      <td>Released</td>\n",
              "      <td>Twelve outrageous guests. Four scandalous requ...</td>\n",
              "      <td>Four Rooms</td>\n",
              "      <td>6.5</td>\n",
              "      <td>530.0</td>\n",
              "    </tr>\n",
              "    <tr>\n",
              "      <th>1</th>\n",
              "      <td>[7.649999999999999, 6.596666666666667, 6.36666...</td>\n",
              "      <td>[6.975]</td>\n",
              "      <td>11000000.0</td>\n",
              "      <td>[6.227155172413792, 6.103560528992878, 6.14118...</td>\n",
              "      <td>http://www.starwars.com/films/star-wars-episod...</td>\n",
              "      <td>[6.720000000000001, 6.56, 8.1, 7.375, 7.366666...</td>\n",
              "      <td>[6.217029933158965]</td>\n",
              "      <td>Star Wars</td>\n",
              "      <td>Princess Leia is captured and held hostage by ...</td>\n",
              "      <td>126.393695</td>\n",
              "      <td>[7.153846153846154, 6.256770833333333]</td>\n",
              "      <td>[6.211524992040752]</td>\n",
              "      <td>5/25/1977</td>\n",
              "      <td>775398007.0</td>\n",
              "      <td>121.0</td>\n",
              "      <td>[6.225273459988485]</td>\n",
              "      <td>Released</td>\n",
              "      <td>A long time ago in a galaxy far, far away...</td>\n",
              "      <td>Star Wars</td>\n",
              "      <td>8.1</td>\n",
              "      <td>6624.0</td>\n",
              "    </tr>\n",
              "    <tr>\n",
              "      <th>2</th>\n",
              "      <td>[6.507692307692308, 6.65, 6.133333333333333, 6...</td>\n",
              "      <td>[7.074999999999999]</td>\n",
              "      <td>94000000.0</td>\n",
              "      <td>[6.416509433962264, 6.135491071428571]</td>\n",
              "      <td>http://movies.disney.com/finding-nemo</td>\n",
              "      <td>[6.67037037037037, 7.6, 6.614285714285714, 7.6...</td>\n",
              "      <td>[6.217029933158965]</td>\n",
              "      <td>Finding Nemo</td>\n",
              "      <td>Nemo, an adventurous young clownfish, is unexp...</td>\n",
              "      <td>85.688789</td>\n",
              "      <td>[7.319999999999999]</td>\n",
              "      <td>[6.211524992040752]</td>\n",
              "      <td>5/30/2003</td>\n",
              "      <td>940335536.0</td>\n",
              "      <td>100.0</td>\n",
              "      <td>[6.225273459988485]</td>\n",
              "      <td>Released</td>\n",
              "      <td>There are 3.7 trillion fish in the ocean, they...</td>\n",
              "      <td>Finding Nemo</td>\n",
              "      <td>7.6</td>\n",
              "      <td>6122.0</td>\n",
              "    </tr>\n",
              "    <tr>\n",
              "      <th>3</th>\n",
              "      <td>[7.06551724137931, 6.4941176470588236, 6.43846...</td>\n",
              "      <td>[6.915384615384615]</td>\n",
              "      <td>55000000.0</td>\n",
              "      <td>[6.010275502606106, 6.506601042269833, 6.27956...</td>\n",
              "      <td>NaN</td>\n",
              "      <td>[6.944444444444445, 6.779999999999999, 7.0, 6....</td>\n",
              "      <td>[6.217029933158965]</td>\n",
              "      <td>Forrest Gump</td>\n",
              "      <td>A man with a low IQ has accomplished great thi...</td>\n",
              "      <td>138.133331</td>\n",
              "      <td>[6.193227091633466]</td>\n",
              "      <td>[6.211524992040752]</td>\n",
              "      <td>07/06/1994</td>\n",
              "      <td>677945399.0</td>\n",
              "      <td>142.0</td>\n",
              "      <td>[6.225273459988485]</td>\n",
              "      <td>Released</td>\n",
              "      <td>The world will never be the same, once you've ...</td>\n",
              "      <td>Forrest Gump</td>\n",
              "      <td>8.2</td>\n",
              "      <td>7927.0</td>\n",
              "    </tr>\n",
              "    <tr>\n",
              "      <th>4</th>\n",
              "      <td>[6.813043478260869, 6.2749999999999995, 6.8500...</td>\n",
              "      <td>[6.749999999999999]</td>\n",
              "      <td>15000000.0</td>\n",
              "      <td>[6.506601042269833]</td>\n",
              "      <td>http://www.dreamworks.com/ab/</td>\n",
              "      <td>[6.185714285714285, 6.147222222222222, 6.56896...</td>\n",
              "      <td>[6.217029933158965]</td>\n",
              "      <td>American Beauty</td>\n",
              "      <td>Lester Burnham, a depressed suburban father in...</td>\n",
              "      <td>80.878605</td>\n",
              "      <td>[6.445945945945946, 7.75]</td>\n",
              "      <td>[6.211524992040752]</td>\n",
              "      <td>9/15/1999</td>\n",
              "      <td>356296601.0</td>\n",
              "      <td>122.0</td>\n",
              "      <td>[6.225273459988485]</td>\n",
              "      <td>Released</td>\n",
              "      <td>Look closer.</td>\n",
              "      <td>American Beauty</td>\n",
              "      <td>7.9</td>\n",
              "      <td>3313.0</td>\n",
              "    </tr>\n",
              "    <tr>\n",
              "      <th>...</th>\n",
              "      <td>...</td>\n",
              "      <td>...</td>\n",
              "      <td>...</td>\n",
              "      <td>...</td>\n",
              "      <td>...</td>\n",
              "      <td>...</td>\n",
              "      <td>...</td>\n",
              "      <td>...</td>\n",
              "      <td>...</td>\n",
              "      <td>...</td>\n",
              "      <td>...</td>\n",
              "      <td>...</td>\n",
              "      <td>...</td>\n",
              "      <td>...</td>\n",
              "      <td>...</td>\n",
              "      <td>...</td>\n",
              "      <td>...</td>\n",
              "      <td>...</td>\n",
              "      <td>...</td>\n",
              "      <td>...</td>\n",
              "      <td>...</td>\n",
              "    </tr>\n",
              "    <tr>\n",
              "      <th>4798</th>\n",
              "      <td>[6.25, 7.35, 7.3, 4.4, 7.033333333333334, 6.95]</td>\n",
              "      <td>[]</td>\n",
              "      <td>NaN</td>\n",
              "      <td>NaN</td>\n",
              "      <td>NaN</td>\n",
              "      <td>NaN</td>\n",
              "      <td>NaN</td>\n",
              "      <td>NaN</td>\n",
              "      <td>NaN</td>\n",
              "      <td>NaN</td>\n",
              "      <td>NaN</td>\n",
              "      <td>NaN</td>\n",
              "      <td>NaN</td>\n",
              "      <td>NaN</td>\n",
              "      <td>NaN</td>\n",
              "      <td>NaN</td>\n",
              "      <td>NaN</td>\n",
              "      <td>NaN</td>\n",
              "      <td>NaN</td>\n",
              "      <td>NaN</td>\n",
              "      <td>NaN</td>\n",
              "    </tr>\n",
              "    <tr>\n",
              "      <th>4799</th>\n",
              "      <td>[6.7, 6.165, 6.4, 7.4, 6.3, 5.944444444444445,...</td>\n",
              "      <td>[]</td>\n",
              "      <td>NaN</td>\n",
              "      <td>NaN</td>\n",
              "      <td>NaN</td>\n",
              "      <td>NaN</td>\n",
              "      <td>NaN</td>\n",
              "      <td>NaN</td>\n",
              "      <td>NaN</td>\n",
              "      <td>NaN</td>\n",
              "      <td>NaN</td>\n",
              "      <td>NaN</td>\n",
              "      <td>NaN</td>\n",
              "      <td>NaN</td>\n",
              "      <td>NaN</td>\n",
              "      <td>NaN</td>\n",
              "      <td>NaN</td>\n",
              "      <td>NaN</td>\n",
              "      <td>NaN</td>\n",
              "      <td>NaN</td>\n",
              "      <td>NaN</td>\n",
              "    </tr>\n",
              "    <tr>\n",
              "      <th>4800</th>\n",
              "      <td>[]</td>\n",
              "      <td>[]</td>\n",
              "      <td>NaN</td>\n",
              "      <td>NaN</td>\n",
              "      <td>NaN</td>\n",
              "      <td>NaN</td>\n",
              "      <td>NaN</td>\n",
              "      <td>NaN</td>\n",
              "      <td>NaN</td>\n",
              "      <td>NaN</td>\n",
              "      <td>NaN</td>\n",
              "      <td>NaN</td>\n",
              "      <td>NaN</td>\n",
              "      <td>NaN</td>\n",
              "      <td>NaN</td>\n",
              "      <td>NaN</td>\n",
              "      <td>NaN</td>\n",
              "      <td>NaN</td>\n",
              "      <td>NaN</td>\n",
              "      <td>NaN</td>\n",
              "      <td>NaN</td>\n",
              "    </tr>\n",
              "    <tr>\n",
              "      <th>4801</th>\n",
              "      <td>[]</td>\n",
              "      <td>[]</td>\n",
              "      <td>0.0</td>\n",
              "      <td>[6.135491071428571]</td>\n",
              "      <td>NaN</td>\n",
              "      <td>[]</td>\n",
              "      <td>[6.217029933158965]</td>\n",
              "      <td>Running Forever</td>\n",
              "      <td>After being estranged since her mother's death...</td>\n",
              "      <td>0.028756</td>\n",
              "      <td>[0.0]</td>\n",
              "      <td>[6.211524992040752]</td>\n",
              "      <td>10/27/2015</td>\n",
              "      <td>0.0</td>\n",
              "      <td>88.0</td>\n",
              "      <td>[]</td>\n",
              "      <td>Released</td>\n",
              "      <td>NaN</td>\n",
              "      <td>Running Forever</td>\n",
              "      <td>0.0</td>\n",
              "      <td>0.0</td>\n",
              "    </tr>\n",
              "    <tr>\n",
              "      <th>4802</th>\n",
              "      <td>[]</td>\n",
              "      <td>[]</td>\n",
              "      <td>NaN</td>\n",
              "      <td>NaN</td>\n",
              "      <td>NaN</td>\n",
              "      <td>NaN</td>\n",
              "      <td>NaN</td>\n",
              "      <td>NaN</td>\n",
              "      <td>NaN</td>\n",
              "      <td>NaN</td>\n",
              "      <td>NaN</td>\n",
              "      <td>NaN</td>\n",
              "      <td>NaN</td>\n",
              "      <td>NaN</td>\n",
              "      <td>NaN</td>\n",
              "      <td>NaN</td>\n",
              "      <td>NaN</td>\n",
              "      <td>NaN</td>\n",
              "      <td>NaN</td>\n",
              "      <td>NaN</td>\n",
              "      <td>NaN</td>\n",
              "    </tr>\n",
              "  </tbody>\n",
              "</table>\n",
              "<p>4803 rows × 21 columns</p>\n",
              "</div>"
            ],
            "text/plain": [
              "                                                   cast  ... vote_count\n",
              "0     [6.159999999999999, 6.057142857142858, 6.01666...  ...      530.0\n",
              "1     [7.649999999999999, 6.596666666666667, 6.36666...  ...     6624.0\n",
              "2     [6.507692307692308, 6.65, 6.133333333333333, 6...  ...     6122.0\n",
              "3     [7.06551724137931, 6.4941176470588236, 6.43846...  ...     7927.0\n",
              "4     [6.813043478260869, 6.2749999999999995, 6.8500...  ...     3313.0\n",
              "...                                                 ...  ...        ...\n",
              "4798    [6.25, 7.35, 7.3, 4.4, 7.033333333333334, 6.95]  ...        NaN\n",
              "4799  [6.7, 6.165, 6.4, 7.4, 6.3, 5.944444444444445,...  ...        NaN\n",
              "4800                                                 []  ...        NaN\n",
              "4801                                                 []  ...        0.0\n",
              "4802                                                 []  ...        NaN\n",
              "\n",
              "[4803 rows x 21 columns]"
            ]
          },
          "metadata": {
            "tags": []
          },
          "execution_count": 728
        }
      ]
    },
    {
      "cell_type": "code",
      "metadata": {
        "id": "zemlxRqS6Na3",
        "colab_type": "code",
        "colab": {}
      },
      "source": [
        "movies_2 = movies_2.drop([\"homepage\",\"original_title\",\"title\",\"overview\",\"status\",\"tagline\"],axis=1)"
      ],
      "execution_count": 0,
      "outputs": []
    },
    {
      "cell_type": "code",
      "metadata": {
        "id": "4-2BdPCgnMi5",
        "colab_type": "code",
        "outputId": "5289614a-66c8-43d8-b293-d34e3560956e",
        "colab": {
          "base_uri": "https://localhost:8080/",
          "height": 694
        }
      },
      "source": [
        "movies_2"
      ],
      "execution_count": 730,
      "outputs": [
        {
          "output_type": "execute_result",
          "data": {
            "text/html": [
              "<div>\n",
              "<style scoped>\n",
              "    .dataframe tbody tr th:only-of-type {\n",
              "        vertical-align: middle;\n",
              "    }\n",
              "\n",
              "    .dataframe tbody tr th {\n",
              "        vertical-align: top;\n",
              "    }\n",
              "\n",
              "    .dataframe thead th {\n",
              "        text-align: right;\n",
              "    }\n",
              "</style>\n",
              "<table border=\"1\" class=\"dataframe\">\n",
              "  <thead>\n",
              "    <tr style=\"text-align: right;\">\n",
              "      <th></th>\n",
              "      <th>cast</th>\n",
              "      <th>crew</th>\n",
              "      <th>budget</th>\n",
              "      <th>genres</th>\n",
              "      <th>keywords</th>\n",
              "      <th>original_language</th>\n",
              "      <th>popularity</th>\n",
              "      <th>production_companies</th>\n",
              "      <th>production_countries</th>\n",
              "      <th>release_date</th>\n",
              "      <th>revenue</th>\n",
              "      <th>runtime</th>\n",
              "      <th>spoken_languages</th>\n",
              "      <th>vote_average</th>\n",
              "      <th>vote_count</th>\n",
              "    </tr>\n",
              "  </thead>\n",
              "  <tbody>\n",
              "    <tr>\n",
              "      <th>0</th>\n",
              "      <td>[6.159999999999999, 6.057142857142858, 6.01666...</td>\n",
              "      <td>[6.5, 6.5, 5.86875, 7.5]</td>\n",
              "      <td>4000000.0</td>\n",
              "      <td>[6.329824561403509, 6.010275502606106]</td>\n",
              "      <td>[6.3428571428571425, 5.814285714285715, 6.3999...</td>\n",
              "      <td>[6.217029933158965]</td>\n",
              "      <td>22.876230</td>\n",
              "      <td>[6.4868421052631575, 7.483333333333333]</td>\n",
              "      <td>[6.211524992040752]</td>\n",
              "      <td>12/09/1995</td>\n",
              "      <td>4300000.0</td>\n",
              "      <td>98.0</td>\n",
              "      <td>[6.225273459988485]</td>\n",
              "      <td>6.5</td>\n",
              "      <td>530.0</td>\n",
              "    </tr>\n",
              "    <tr>\n",
              "      <th>1</th>\n",
              "      <td>[7.649999999999999, 6.596666666666667, 6.36666...</td>\n",
              "      <td>[6.975]</td>\n",
              "      <td>11000000.0</td>\n",
              "      <td>[6.227155172413792, 6.103560528992878, 6.14118...</td>\n",
              "      <td>[6.720000000000001, 6.56, 8.1, 7.375, 7.366666...</td>\n",
              "      <td>[6.217029933158965]</td>\n",
              "      <td>126.393695</td>\n",
              "      <td>[7.153846153846154, 6.256770833333333]</td>\n",
              "      <td>[6.211524992040752]</td>\n",
              "      <td>5/25/1977</td>\n",
              "      <td>775398007.0</td>\n",
              "      <td>121.0</td>\n",
              "      <td>[6.225273459988485]</td>\n",
              "      <td>8.1</td>\n",
              "      <td>6624.0</td>\n",
              "    </tr>\n",
              "    <tr>\n",
              "      <th>2</th>\n",
              "      <td>[6.507692307692308, 6.65, 6.133333333333333, 6...</td>\n",
              "      <td>[7.074999999999999]</td>\n",
              "      <td>94000000.0</td>\n",
              "      <td>[6.416509433962264, 6.135491071428571]</td>\n",
              "      <td>[6.67037037037037, 7.6, 6.614285714285714, 7.6...</td>\n",
              "      <td>[6.217029933158965]</td>\n",
              "      <td>85.688789</td>\n",
              "      <td>[7.319999999999999]</td>\n",
              "      <td>[6.211524992040752]</td>\n",
              "      <td>5/30/2003</td>\n",
              "      <td>940335536.0</td>\n",
              "      <td>100.0</td>\n",
              "      <td>[6.225273459988485]</td>\n",
              "      <td>7.6</td>\n",
              "      <td>6122.0</td>\n",
              "    </tr>\n",
              "    <tr>\n",
              "      <th>3</th>\n",
              "      <td>[7.06551724137931, 6.4941176470588236, 6.43846...</td>\n",
              "      <td>[6.915384615384615]</td>\n",
              "      <td>55000000.0</td>\n",
              "      <td>[6.010275502606106, 6.506601042269833, 6.27956...</td>\n",
              "      <td>[6.944444444444445, 6.779999999999999, 7.0, 6....</td>\n",
              "      <td>[6.217029933158965]</td>\n",
              "      <td>138.133331</td>\n",
              "      <td>[6.193227091633466]</td>\n",
              "      <td>[6.211524992040752]</td>\n",
              "      <td>07/06/1994</td>\n",
              "      <td>677945399.0</td>\n",
              "      <td>142.0</td>\n",
              "      <td>[6.225273459988485]</td>\n",
              "      <td>8.2</td>\n",
              "      <td>7927.0</td>\n",
              "    </tr>\n",
              "    <tr>\n",
              "      <th>4</th>\n",
              "      <td>[6.813043478260869, 6.2749999999999995, 6.8500...</td>\n",
              "      <td>[6.749999999999999]</td>\n",
              "      <td>15000000.0</td>\n",
              "      <td>[6.506601042269833]</td>\n",
              "      <td>[6.185714285714285, 6.147222222222222, 6.56896...</td>\n",
              "      <td>[6.217029933158965]</td>\n",
              "      <td>80.878605</td>\n",
              "      <td>[6.445945945945946, 7.75]</td>\n",
              "      <td>[6.211524992040752]</td>\n",
              "      <td>9/15/1999</td>\n",
              "      <td>356296601.0</td>\n",
              "      <td>122.0</td>\n",
              "      <td>[6.225273459988485]</td>\n",
              "      <td>7.9</td>\n",
              "      <td>3313.0</td>\n",
              "    </tr>\n",
              "    <tr>\n",
              "      <th>...</th>\n",
              "      <td>...</td>\n",
              "      <td>...</td>\n",
              "      <td>...</td>\n",
              "      <td>...</td>\n",
              "      <td>...</td>\n",
              "      <td>...</td>\n",
              "      <td>...</td>\n",
              "      <td>...</td>\n",
              "      <td>...</td>\n",
              "      <td>...</td>\n",
              "      <td>...</td>\n",
              "      <td>...</td>\n",
              "      <td>...</td>\n",
              "      <td>...</td>\n",
              "      <td>...</td>\n",
              "    </tr>\n",
              "    <tr>\n",
              "      <th>4798</th>\n",
              "      <td>[6.25, 7.35, 7.3, 4.4, 7.033333333333334, 6.95]</td>\n",
              "      <td>[]</td>\n",
              "      <td>NaN</td>\n",
              "      <td>NaN</td>\n",
              "      <td>NaN</td>\n",
              "      <td>NaN</td>\n",
              "      <td>NaN</td>\n",
              "      <td>NaN</td>\n",
              "      <td>NaN</td>\n",
              "      <td>NaN</td>\n",
              "      <td>NaN</td>\n",
              "      <td>NaN</td>\n",
              "      <td>NaN</td>\n",
              "      <td>NaN</td>\n",
              "      <td>NaN</td>\n",
              "    </tr>\n",
              "    <tr>\n",
              "      <th>4799</th>\n",
              "      <td>[6.7, 6.165, 6.4, 7.4, 6.3, 5.944444444444445,...</td>\n",
              "      <td>[]</td>\n",
              "      <td>NaN</td>\n",
              "      <td>NaN</td>\n",
              "      <td>NaN</td>\n",
              "      <td>NaN</td>\n",
              "      <td>NaN</td>\n",
              "      <td>NaN</td>\n",
              "      <td>NaN</td>\n",
              "      <td>NaN</td>\n",
              "      <td>NaN</td>\n",
              "      <td>NaN</td>\n",
              "      <td>NaN</td>\n",
              "      <td>NaN</td>\n",
              "      <td>NaN</td>\n",
              "    </tr>\n",
              "    <tr>\n",
              "      <th>4800</th>\n",
              "      <td>[]</td>\n",
              "      <td>[]</td>\n",
              "      <td>NaN</td>\n",
              "      <td>NaN</td>\n",
              "      <td>NaN</td>\n",
              "      <td>NaN</td>\n",
              "      <td>NaN</td>\n",
              "      <td>NaN</td>\n",
              "      <td>NaN</td>\n",
              "      <td>NaN</td>\n",
              "      <td>NaN</td>\n",
              "      <td>NaN</td>\n",
              "      <td>NaN</td>\n",
              "      <td>NaN</td>\n",
              "      <td>NaN</td>\n",
              "    </tr>\n",
              "    <tr>\n",
              "      <th>4801</th>\n",
              "      <td>[]</td>\n",
              "      <td>[]</td>\n",
              "      <td>0.0</td>\n",
              "      <td>[6.135491071428571]</td>\n",
              "      <td>[]</td>\n",
              "      <td>[6.217029933158965]</td>\n",
              "      <td>0.028756</td>\n",
              "      <td>[0.0]</td>\n",
              "      <td>[6.211524992040752]</td>\n",
              "      <td>10/27/2015</td>\n",
              "      <td>0.0</td>\n",
              "      <td>88.0</td>\n",
              "      <td>[]</td>\n",
              "      <td>0.0</td>\n",
              "      <td>0.0</td>\n",
              "    </tr>\n",
              "    <tr>\n",
              "      <th>4802</th>\n",
              "      <td>[]</td>\n",
              "      <td>[]</td>\n",
              "      <td>NaN</td>\n",
              "      <td>NaN</td>\n",
              "      <td>NaN</td>\n",
              "      <td>NaN</td>\n",
              "      <td>NaN</td>\n",
              "      <td>NaN</td>\n",
              "      <td>NaN</td>\n",
              "      <td>NaN</td>\n",
              "      <td>NaN</td>\n",
              "      <td>NaN</td>\n",
              "      <td>NaN</td>\n",
              "      <td>NaN</td>\n",
              "      <td>NaN</td>\n",
              "    </tr>\n",
              "  </tbody>\n",
              "</table>\n",
              "<p>4803 rows × 15 columns</p>\n",
              "</div>"
            ],
            "text/plain": [
              "                                                   cast  ... vote_count\n",
              "0     [6.159999999999999, 6.057142857142858, 6.01666...  ...      530.0\n",
              "1     [7.649999999999999, 6.596666666666667, 6.36666...  ...     6624.0\n",
              "2     [6.507692307692308, 6.65, 6.133333333333333, 6...  ...     6122.0\n",
              "3     [7.06551724137931, 6.4941176470588236, 6.43846...  ...     7927.0\n",
              "4     [6.813043478260869, 6.2749999999999995, 6.8500...  ...     3313.0\n",
              "...                                                 ...  ...        ...\n",
              "4798    [6.25, 7.35, 7.3, 4.4, 7.033333333333334, 6.95]  ...        NaN\n",
              "4799  [6.7, 6.165, 6.4, 7.4, 6.3, 5.944444444444445,...  ...        NaN\n",
              "4800                                                 []  ...        NaN\n",
              "4801                                                 []  ...        0.0\n",
              "4802                                                 []  ...        NaN\n",
              "\n",
              "[4803 rows x 15 columns]"
            ]
          },
          "metadata": {
            "tags": []
          },
          "execution_count": 730
        }
      ]
    },
    {
      "cell_type": "code",
      "metadata": {
        "id": "tIaPF_nT7n61",
        "colab_type": "code",
        "colab": {}
      },
      "source": [
        ""
      ],
      "execution_count": 0,
      "outputs": []
    },
    {
      "cell_type": "code",
      "metadata": {
        "id": "KrZY6-zWFMqG",
        "colab_type": "code",
        "colab": {
          "base_uri": "https://localhost:8080/",
          "height": 102
        },
        "outputId": "cf8dc30b-78b9-4f39-a193-f90fbdd285df"
      },
      "source": [
        "for i in range(movies_2.shape[0]):\n",
        "  if isinstance(movies_2[\"original_language\"][i],float):continue\n",
        "  movies_2[\"original_language\"][i]=np.mean(reject_outliers(np.array(movies_2[\"original_language\"][i])))"
      ],
      "execution_count": 732,
      "outputs": [
        {
          "output_type": "stream",
          "text": [
            "/usr/local/lib/python3.6/dist-packages/ipykernel_launcher.py:3: SettingWithCopyWarning: \n",
            "A value is trying to be set on a copy of a slice from a DataFrame\n",
            "\n",
            "See the caveats in the documentation: http://pandas.pydata.org/pandas-docs/stable/user_guide/indexing.html#returning-a-view-versus-a-copy\n",
            "  This is separate from the ipykernel package so we can avoid doing imports until\n"
          ],
          "name": "stderr"
        }
      ]
    },
    {
      "cell_type": "code",
      "metadata": {
        "id": "yuvoQFqM7ENn",
        "colab_type": "code",
        "colab": {
          "base_uri": "https://localhost:8080/",
          "height": 782
        },
        "outputId": "98f2b542-ae46-4c04-c84e-110b74e3574b"
      },
      "source": [
        "for i in range(movies_2.shape[0]):\n",
        "  movies_2[\"cast\"][i]=np.mean(reject_outliers(np.array(movies_2[\"cast\"][i])))\n",
        "  movies_2[\"crew\"][i]=np.mean(reject_outliers(np.array(movies_2[\"crew\"][i])))\n",
        "  if isinstance(movies_2[\"genres\"][i],float):continue\n",
        "  movies_2[\"genres\"][i]=np.mean(reject_outliers(np.array(movies_2[\"genres\"][i])))\n",
        "  if isinstance(movies_2[\"keywords\"][i],float):continue\n",
        "  movies_2[\"keywords\"][i]=np.mean(reject_outliers(np.array(movies_2[\"keywords\"][i])))\n",
        "  if isinstance(movies_2[\"production_companies\"][i],float):continue\n",
        "  movies_2[\"production_companies\"][i]=np.mean(reject_outliers(np.array(movies_2[\"production_companies\"][i])))\n",
        "  if isinstance(movies_2[\"production_countries\"][i],float):continue\n",
        "  movies_2[\"production_countries\"][i]=np.mean(reject_outliers(np.array(movies_2[\"production_countries\"][i])))\n",
        "  if isinstance(movies_2[\"spoken_languages\"][i],float):continue\n",
        "  movies_2[\"spoken_languages\"][i]=np.mean(reject_outliers(np.array(movies_2[\"spoken_languages\"][i])))"
      ],
      "execution_count": 731,
      "outputs": [
        {
          "output_type": "stream",
          "text": [
            "/usr/local/lib/python3.6/dist-packages/ipykernel_launcher.py:2: SettingWithCopyWarning: \n",
            "A value is trying to be set on a copy of a slice from a DataFrame\n",
            "\n",
            "See the caveats in the documentation: http://pandas.pydata.org/pandas-docs/stable/user_guide/indexing.html#returning-a-view-versus-a-copy\n",
            "  \n",
            "/usr/local/lib/python3.6/dist-packages/ipykernel_launcher.py:3: SettingWithCopyWarning: \n",
            "A value is trying to be set on a copy of a slice from a DataFrame\n",
            "\n",
            "See the caveats in the documentation: http://pandas.pydata.org/pandas-docs/stable/user_guide/indexing.html#returning-a-view-versus-a-copy\n",
            "  This is separate from the ipykernel package so we can avoid doing imports until\n",
            "/usr/local/lib/python3.6/dist-packages/ipykernel_launcher.py:5: SettingWithCopyWarning: \n",
            "A value is trying to be set on a copy of a slice from a DataFrame\n",
            "\n",
            "See the caveats in the documentation: http://pandas.pydata.org/pandas-docs/stable/user_guide/indexing.html#returning-a-view-versus-a-copy\n",
            "  \"\"\"\n",
            "/usr/local/lib/python3.6/dist-packages/ipykernel_launcher.py:7: SettingWithCopyWarning: \n",
            "A value is trying to be set on a copy of a slice from a DataFrame\n",
            "\n",
            "See the caveats in the documentation: http://pandas.pydata.org/pandas-docs/stable/user_guide/indexing.html#returning-a-view-versus-a-copy\n",
            "  import sys\n",
            "/usr/local/lib/python3.6/dist-packages/ipykernel_launcher.py:9: SettingWithCopyWarning: \n",
            "A value is trying to be set on a copy of a slice from a DataFrame\n",
            "\n",
            "See the caveats in the documentation: http://pandas.pydata.org/pandas-docs/stable/user_guide/indexing.html#returning-a-view-versus-a-copy\n",
            "  if __name__ == '__main__':\n",
            "/usr/local/lib/python3.6/dist-packages/ipykernel_launcher.py:11: SettingWithCopyWarning: \n",
            "A value is trying to be set on a copy of a slice from a DataFrame\n",
            "\n",
            "See the caveats in the documentation: http://pandas.pydata.org/pandas-docs/stable/user_guide/indexing.html#returning-a-view-versus-a-copy\n",
            "  # This is added back by InteractiveShellApp.init_path()\n",
            "/usr/local/lib/python3.6/dist-packages/ipykernel_launcher.py:13: SettingWithCopyWarning: \n",
            "A value is trying to be set on a copy of a slice from a DataFrame\n",
            "\n",
            "See the caveats in the documentation: http://pandas.pydata.org/pandas-docs/stable/user_guide/indexing.html#returning-a-view-versus-a-copy\n",
            "  del sys.path[0]\n",
            "/usr/local/lib/python3.6/dist-packages/numpy/core/fromnumeric.py:3257: RuntimeWarning: Mean of empty slice.\n",
            "  out=out, **kwargs)\n",
            "/usr/local/lib/python3.6/dist-packages/numpy/core/_methods.py:161: RuntimeWarning: invalid value encountered in double_scalars\n",
            "  ret = ret.dtype.type(ret / rcount)\n",
            "/usr/local/lib/python3.6/dist-packages/numpy/core/_methods.py:217: RuntimeWarning: Degrees of freedom <= 0 for slice\n",
            "  keepdims=keepdims)\n",
            "/usr/local/lib/python3.6/dist-packages/numpy/core/_methods.py:186: RuntimeWarning: invalid value encountered in true_divide\n",
            "  arrmean, rcount, out=arrmean, casting='unsafe', subok=False)\n",
            "/usr/local/lib/python3.6/dist-packages/numpy/core/_methods.py:209: RuntimeWarning: invalid value encountered in double_scalars\n",
            "  ret = ret.dtype.type(ret / rcount)\n"
          ],
          "name": "stderr"
        }
      ]
    },
    {
      "cell_type": "code",
      "metadata": {
        "id": "gdHQtUF0FGjy",
        "colab_type": "code",
        "colab": {}
      },
      "source": [
        ""
      ],
      "execution_count": 0,
      "outputs": []
    },
    {
      "cell_type": "code",
      "metadata": {
        "id": "tB0xlOIMAdxG",
        "colab_type": "code",
        "outputId": "ab77c165-1bfa-4f62-9d85-259b30bbaad1",
        "colab": {
          "base_uri": "https://localhost:8080/",
          "height": 439
        }
      },
      "source": [
        "movies_2"
      ],
      "execution_count": 733,
      "outputs": [
        {
          "output_type": "execute_result",
          "data": {
            "text/html": [
              "<div>\n",
              "<style scoped>\n",
              "    .dataframe tbody tr th:only-of-type {\n",
              "        vertical-align: middle;\n",
              "    }\n",
              "\n",
              "    .dataframe tbody tr th {\n",
              "        vertical-align: top;\n",
              "    }\n",
              "\n",
              "    .dataframe thead th {\n",
              "        text-align: right;\n",
              "    }\n",
              "</style>\n",
              "<table border=\"1\" class=\"dataframe\">\n",
              "  <thead>\n",
              "    <tr style=\"text-align: right;\">\n",
              "      <th></th>\n",
              "      <th>cast</th>\n",
              "      <th>crew</th>\n",
              "      <th>budget</th>\n",
              "      <th>genres</th>\n",
              "      <th>keywords</th>\n",
              "      <th>original_language</th>\n",
              "      <th>popularity</th>\n",
              "      <th>production_companies</th>\n",
              "      <th>production_countries</th>\n",
              "      <th>release_date</th>\n",
              "      <th>revenue</th>\n",
              "      <th>runtime</th>\n",
              "      <th>spoken_languages</th>\n",
              "      <th>vote_average</th>\n",
              "      <th>vote_count</th>\n",
              "    </tr>\n",
              "  </thead>\n",
              "  <tbody>\n",
              "    <tr>\n",
              "      <th>0</th>\n",
              "      <td>6.34332</td>\n",
              "      <td>6.59219</td>\n",
              "      <td>4000000.0</td>\n",
              "      <td>6.17005</td>\n",
              "      <td>6.38634</td>\n",
              "      <td>6.21703</td>\n",
              "      <td>22.876230</td>\n",
              "      <td>6.98509</td>\n",
              "      <td>6.21152</td>\n",
              "      <td>12/09/1995</td>\n",
              "      <td>4300000.0</td>\n",
              "      <td>98.0</td>\n",
              "      <td>6.22527</td>\n",
              "      <td>6.5</td>\n",
              "      <td>530.0</td>\n",
              "    </tr>\n",
              "    <tr>\n",
              "      <th>1</th>\n",
              "      <td>7.97777</td>\n",
              "      <td>6.975</td>\n",
              "      <td>11000000.0</td>\n",
              "      <td>6.1573</td>\n",
              "      <td>7.2659</td>\n",
              "      <td>6.21703</td>\n",
              "      <td>126.393695</td>\n",
              "      <td>6.70531</td>\n",
              "      <td>6.21152</td>\n",
              "      <td>5/25/1977</td>\n",
              "      <td>775398007.0</td>\n",
              "      <td>121.0</td>\n",
              "      <td>6.22527</td>\n",
              "      <td>8.1</td>\n",
              "      <td>6624.0</td>\n",
              "    </tr>\n",
              "    <tr>\n",
              "      <th>2</th>\n",
              "      <td>6.73398</td>\n",
              "      <td>7.075</td>\n",
              "      <td>94000000.0</td>\n",
              "      <td>6.276</td>\n",
              "      <td>6.98071</td>\n",
              "      <td>6.21703</td>\n",
              "      <td>85.688789</td>\n",
              "      <td>7.32</td>\n",
              "      <td>6.21152</td>\n",
              "      <td>5/30/2003</td>\n",
              "      <td>940335536.0</td>\n",
              "      <td>100.0</td>\n",
              "      <td>6.22527</td>\n",
              "      <td>7.6</td>\n",
              "      <td>6122.0</td>\n",
              "    </tr>\n",
              "    <tr>\n",
              "      <th>3</th>\n",
              "      <td>7.68931</td>\n",
              "      <td>6.91538</td>\n",
              "      <td>55000000.0</td>\n",
              "      <td>6.26548</td>\n",
              "      <td>7.11038</td>\n",
              "      <td>6.21703</td>\n",
              "      <td>138.133331</td>\n",
              "      <td>6.19323</td>\n",
              "      <td>6.21152</td>\n",
              "      <td>07/06/1994</td>\n",
              "      <td>677945399.0</td>\n",
              "      <td>142.0</td>\n",
              "      <td>6.22527</td>\n",
              "      <td>8.2</td>\n",
              "      <td>7927.0</td>\n",
              "    </tr>\n",
              "    <tr>\n",
              "      <th>4</th>\n",
              "      <td>7.11323</td>\n",
              "      <td>6.75</td>\n",
              "      <td>15000000.0</td>\n",
              "      <td>6.5066</td>\n",
              "      <td>6.56293</td>\n",
              "      <td>6.21703</td>\n",
              "      <td>80.878605</td>\n",
              "      <td>7.09797</td>\n",
              "      <td>6.21152</td>\n",
              "      <td>9/15/1999</td>\n",
              "      <td>356296601.0</td>\n",
              "      <td>122.0</td>\n",
              "      <td>6.22527</td>\n",
              "      <td>7.9</td>\n",
              "      <td>3313.0</td>\n",
              "    </tr>\n",
              "    <tr>\n",
              "      <th>...</th>\n",
              "      <td>...</td>\n",
              "      <td>...</td>\n",
              "      <td>...</td>\n",
              "      <td>...</td>\n",
              "      <td>...</td>\n",
              "      <td>...</td>\n",
              "      <td>...</td>\n",
              "      <td>...</td>\n",
              "      <td>...</td>\n",
              "      <td>...</td>\n",
              "      <td>...</td>\n",
              "      <td>...</td>\n",
              "      <td>...</td>\n",
              "      <td>...</td>\n",
              "      <td>...</td>\n",
              "    </tr>\n",
              "    <tr>\n",
              "      <th>4798</th>\n",
              "      <td>6.97667</td>\n",
              "      <td>NaN</td>\n",
              "      <td>NaN</td>\n",
              "      <td>NaN</td>\n",
              "      <td>NaN</td>\n",
              "      <td>NaN</td>\n",
              "      <td>NaN</td>\n",
              "      <td>NaN</td>\n",
              "      <td>NaN</td>\n",
              "      <td>NaN</td>\n",
              "      <td>NaN</td>\n",
              "      <td>NaN</td>\n",
              "      <td>NaN</td>\n",
              "      <td>NaN</td>\n",
              "      <td>NaN</td>\n",
              "    </tr>\n",
              "    <tr>\n",
              "      <th>4799</th>\n",
              "      <td>6.37872</td>\n",
              "      <td>NaN</td>\n",
              "      <td>NaN</td>\n",
              "      <td>NaN</td>\n",
              "      <td>NaN</td>\n",
              "      <td>NaN</td>\n",
              "      <td>NaN</td>\n",
              "      <td>NaN</td>\n",
              "      <td>NaN</td>\n",
              "      <td>NaN</td>\n",
              "      <td>NaN</td>\n",
              "      <td>NaN</td>\n",
              "      <td>NaN</td>\n",
              "      <td>NaN</td>\n",
              "      <td>NaN</td>\n",
              "    </tr>\n",
              "    <tr>\n",
              "      <th>4800</th>\n",
              "      <td>NaN</td>\n",
              "      <td>NaN</td>\n",
              "      <td>NaN</td>\n",
              "      <td>NaN</td>\n",
              "      <td>NaN</td>\n",
              "      <td>NaN</td>\n",
              "      <td>NaN</td>\n",
              "      <td>NaN</td>\n",
              "      <td>NaN</td>\n",
              "      <td>NaN</td>\n",
              "      <td>NaN</td>\n",
              "      <td>NaN</td>\n",
              "      <td>NaN</td>\n",
              "      <td>NaN</td>\n",
              "      <td>NaN</td>\n",
              "    </tr>\n",
              "    <tr>\n",
              "      <th>4801</th>\n",
              "      <td>NaN</td>\n",
              "      <td>NaN</td>\n",
              "      <td>0.0</td>\n",
              "      <td>6.13549</td>\n",
              "      <td>NaN</td>\n",
              "      <td>6.21703</td>\n",
              "      <td>0.028756</td>\n",
              "      <td>0</td>\n",
              "      <td>6.21152</td>\n",
              "      <td>10/27/2015</td>\n",
              "      <td>0.0</td>\n",
              "      <td>88.0</td>\n",
              "      <td>NaN</td>\n",
              "      <td>0.0</td>\n",
              "      <td>0.0</td>\n",
              "    </tr>\n",
              "    <tr>\n",
              "      <th>4802</th>\n",
              "      <td>NaN</td>\n",
              "      <td>NaN</td>\n",
              "      <td>NaN</td>\n",
              "      <td>NaN</td>\n",
              "      <td>NaN</td>\n",
              "      <td>NaN</td>\n",
              "      <td>NaN</td>\n",
              "      <td>NaN</td>\n",
              "      <td>NaN</td>\n",
              "      <td>NaN</td>\n",
              "      <td>NaN</td>\n",
              "      <td>NaN</td>\n",
              "      <td>NaN</td>\n",
              "      <td>NaN</td>\n",
              "      <td>NaN</td>\n",
              "    </tr>\n",
              "  </tbody>\n",
              "</table>\n",
              "<p>4803 rows × 15 columns</p>\n",
              "</div>"
            ],
            "text/plain": [
              "         cast     crew      budget  ... spoken_languages vote_average vote_count\n",
              "0     6.34332  6.59219   4000000.0  ...          6.22527          6.5      530.0\n",
              "1     7.97777    6.975  11000000.0  ...          6.22527          8.1     6624.0\n",
              "2     6.73398    7.075  94000000.0  ...          6.22527          7.6     6122.0\n",
              "3     7.68931  6.91538  55000000.0  ...          6.22527          8.2     7927.0\n",
              "4     7.11323     6.75  15000000.0  ...          6.22527          7.9     3313.0\n",
              "...       ...      ...         ...  ...              ...          ...        ...\n",
              "4798  6.97667      NaN         NaN  ...              NaN          NaN        NaN\n",
              "4799  6.37872      NaN         NaN  ...              NaN          NaN        NaN\n",
              "4800      NaN      NaN         NaN  ...              NaN          NaN        NaN\n",
              "4801      NaN      NaN         0.0  ...              NaN          0.0        0.0\n",
              "4802      NaN      NaN         NaN  ...              NaN          NaN        NaN\n",
              "\n",
              "[4803 rows x 15 columns]"
            ]
          },
          "metadata": {
            "tags": []
          },
          "execution_count": 733
        }
      ]
    },
    {
      "cell_type": "code",
      "metadata": {
        "id": "3uEwc1B490eA",
        "colab_type": "code",
        "colab": {}
      },
      "source": [
        ""
      ],
      "execution_count": 0,
      "outputs": []
    },
    {
      "cell_type": "code",
      "metadata": {
        "id": "Sm-SwPVW92_1",
        "colab_type": "code",
        "colab": {
          "base_uri": "https://localhost:8080/",
          "height": 34
        },
        "outputId": "e3b55ded-1b75-4e39-8297-9294b9629a0c"
      },
      "source": [
        "from google.colab import drive\n",
        "drive.mount('/content/drive')"
      ],
      "execution_count": 734,
      "outputs": [
        {
          "output_type": "stream",
          "text": [
            "Drive already mounted at /content/drive; to attempt to forcibly remount, call drive.mount(\"/content/drive\", force_remount=True).\n"
          ],
          "name": "stdout"
        }
      ]
    },
    {
      "cell_type": "code",
      "metadata": {
        "id": "OpHABRS19vPM",
        "colab_type": "code",
        "colab": {}
      },
      "source": [
        "movies_2.to_csv(\"/content/drive/My Drive/machine_learning data/data_using_max.csv\")"
      ],
      "execution_count": 0,
      "outputs": []
    },
    {
      "cell_type": "code",
      "metadata": {
        "id": "7AZMRjzOAhfa",
        "colab_type": "code",
        "outputId": "994cda9a-41ae-46aa-c784-2dc9237ddbb5",
        "colab": {
          "base_uri": "https://localhost:8080/",
          "height": 34
        }
      },
      "source": [
        "movies_2.shape"
      ],
      "execution_count": 736,
      "outputs": [
        {
          "output_type": "execute_result",
          "data": {
            "text/plain": [
              "(4803, 15)"
            ]
          },
          "metadata": {
            "tags": []
          },
          "execution_count": 736
        }
      ]
    },
    {
      "cell_type": "code",
      "metadata": {
        "id": "LWlwv6-9CG01",
        "colab_type": "code",
        "outputId": "80582f80-cbae-41dd-9c63-92b49c3640b7",
        "colab": {
          "base_uri": "https://localhost:8080/",
          "height": 230
        }
      },
      "source": [
        "tab_info=pd.DataFrame(movies_2.dtypes).T.rename(index={0:'column type'})\n",
        "tab_info=tab_info.append(pd.DataFrame(movies_2.isnull().sum()).T.rename(index={0:'null values'}))\n",
        "tab_info=tab_info.append(pd.DataFrame(movies_2.isnull().sum()/movies_2.shape[0]*100).T.rename(index={0:'null values (%)'}))\n",
        "tab_info"
      ],
      "execution_count": 737,
      "outputs": [
        {
          "output_type": "execute_result",
          "data": {
            "text/html": [
              "<div>\n",
              "<style scoped>\n",
              "    .dataframe tbody tr th:only-of-type {\n",
              "        vertical-align: middle;\n",
              "    }\n",
              "\n",
              "    .dataframe tbody tr th {\n",
              "        vertical-align: top;\n",
              "    }\n",
              "\n",
              "    .dataframe thead th {\n",
              "        text-align: right;\n",
              "    }\n",
              "</style>\n",
              "<table border=\"1\" class=\"dataframe\">\n",
              "  <thead>\n",
              "    <tr style=\"text-align: right;\">\n",
              "      <th></th>\n",
              "      <th>cast</th>\n",
              "      <th>crew</th>\n",
              "      <th>budget</th>\n",
              "      <th>genres</th>\n",
              "      <th>keywords</th>\n",
              "      <th>original_language</th>\n",
              "      <th>popularity</th>\n",
              "      <th>production_companies</th>\n",
              "      <th>production_countries</th>\n",
              "      <th>release_date</th>\n",
              "      <th>revenue</th>\n",
              "      <th>runtime</th>\n",
              "      <th>spoken_languages</th>\n",
              "      <th>vote_average</th>\n",
              "      <th>vote_count</th>\n",
              "    </tr>\n",
              "  </thead>\n",
              "  <tbody>\n",
              "    <tr>\n",
              "      <th>column type</th>\n",
              "      <td>object</td>\n",
              "      <td>object</td>\n",
              "      <td>float64</td>\n",
              "      <td>object</td>\n",
              "      <td>object</td>\n",
              "      <td>object</td>\n",
              "      <td>float64</td>\n",
              "      <td>object</td>\n",
              "      <td>object</td>\n",
              "      <td>object</td>\n",
              "      <td>float64</td>\n",
              "      <td>float64</td>\n",
              "      <td>object</td>\n",
              "      <td>float64</td>\n",
              "      <td>float64</td>\n",
              "    </tr>\n",
              "    <tr>\n",
              "      <th>null values</th>\n",
              "      <td>126</td>\n",
              "      <td>715</td>\n",
              "      <td>1004</td>\n",
              "      <td>1004</td>\n",
              "      <td>1230</td>\n",
              "      <td>1004</td>\n",
              "      <td>1004</td>\n",
              "      <td>1108</td>\n",
              "      <td>1046</td>\n",
              "      <td>1004</td>\n",
              "      <td>1004</td>\n",
              "      <td>1005</td>\n",
              "      <td>1016</td>\n",
              "      <td>1004</td>\n",
              "      <td>1004</td>\n",
              "    </tr>\n",
              "    <tr>\n",
              "      <th>null values (%)</th>\n",
              "      <td>2.62336</td>\n",
              "      <td>14.8865</td>\n",
              "      <td>20.9036</td>\n",
              "      <td>20.9036</td>\n",
              "      <td>25.609</td>\n",
              "      <td>20.9036</td>\n",
              "      <td>20.9036</td>\n",
              "      <td>23.0689</td>\n",
              "      <td>21.7781</td>\n",
              "      <td>20.9036</td>\n",
              "      <td>20.9036</td>\n",
              "      <td>20.9244</td>\n",
              "      <td>21.1534</td>\n",
              "      <td>20.9036</td>\n",
              "      <td>20.9036</td>\n",
              "    </tr>\n",
              "  </tbody>\n",
              "</table>\n",
              "</div>"
            ],
            "text/plain": [
              "                    cast     crew  ... vote_average vote_count\n",
              "column type       object   object  ...      float64    float64\n",
              "null values          126      715  ...         1004       1004\n",
              "null values (%)  2.62336  14.8865  ...      20.9036    20.9036\n",
              "\n",
              "[3 rows x 15 columns]"
            ]
          },
          "metadata": {
            "tags": []
          },
          "execution_count": 737
        }
      ]
    },
    {
      "cell_type": "code",
      "metadata": {
        "id": "k2YcFQdJBVkK",
        "colab_type": "code",
        "colab": {}
      },
      "source": [
        "movies_2 = movies_2.dropna()"
      ],
      "execution_count": 0,
      "outputs": []
    },
    {
      "cell_type": "code",
      "metadata": {
        "id": "wUXsMtXDBhaS",
        "colab_type": "code",
        "outputId": "023bb73e-50ef-4916-cc84-17c5e1b15586",
        "colab": {
          "base_uri": "https://localhost:8080/",
          "height": 34
        }
      },
      "source": [
        "movies_2.shape"
      ],
      "execution_count": 739,
      "outputs": [
        {
          "output_type": "execute_result",
          "data": {
            "text/plain": [
              "(3501, 15)"
            ]
          },
          "metadata": {
            "tags": []
          },
          "execution_count": 739
        }
      ]
    },
    {
      "cell_type": "code",
      "metadata": {
        "id": "EmKS1_cBCrgf",
        "colab_type": "code",
        "colab": {}
      },
      "source": [
        "movies_2=movies_2[movies_2[\"budget\"]!=0]"
      ],
      "execution_count": 0,
      "outputs": []
    },
    {
      "cell_type": "code",
      "metadata": {
        "id": "vy0xRe3yDJDo",
        "colab_type": "code",
        "outputId": "4a353058-580c-42c7-d124-b1beff83ef3b",
        "colab": {
          "base_uri": "https://localhost:8080/",
          "height": 34
        }
      },
      "source": [
        "movies_2.shape"
      ],
      "execution_count": 741,
      "outputs": [
        {
          "output_type": "execute_result",
          "data": {
            "text/plain": [
              "(3086, 15)"
            ]
          },
          "metadata": {
            "tags": []
          },
          "execution_count": 741
        }
      ]
    },
    {
      "cell_type": "code",
      "metadata": {
        "id": "vp5kcavlDbnZ",
        "colab_type": "code",
        "colab": {}
      },
      "source": [
        "movies_2=movies_2[movies_2[\"popularity\"]!=0]"
      ],
      "execution_count": 0,
      "outputs": []
    },
    {
      "cell_type": "code",
      "metadata": {
        "id": "v5waYaDCFuwf",
        "colab_type": "code",
        "outputId": "b7343ab6-d726-4acd-a556-d746f972c6a2",
        "colab": {
          "base_uri": "https://localhost:8080/",
          "height": 439
        }
      },
      "source": [
        "movies_2"
      ],
      "execution_count": 743,
      "outputs": [
        {
          "output_type": "execute_result",
          "data": {
            "text/html": [
              "<div>\n",
              "<style scoped>\n",
              "    .dataframe tbody tr th:only-of-type {\n",
              "        vertical-align: middle;\n",
              "    }\n",
              "\n",
              "    .dataframe tbody tr th {\n",
              "        vertical-align: top;\n",
              "    }\n",
              "\n",
              "    .dataframe thead th {\n",
              "        text-align: right;\n",
              "    }\n",
              "</style>\n",
              "<table border=\"1\" class=\"dataframe\">\n",
              "  <thead>\n",
              "    <tr style=\"text-align: right;\">\n",
              "      <th></th>\n",
              "      <th>cast</th>\n",
              "      <th>crew</th>\n",
              "      <th>budget</th>\n",
              "      <th>genres</th>\n",
              "      <th>keywords</th>\n",
              "      <th>original_language</th>\n",
              "      <th>popularity</th>\n",
              "      <th>production_companies</th>\n",
              "      <th>production_countries</th>\n",
              "      <th>release_date</th>\n",
              "      <th>revenue</th>\n",
              "      <th>runtime</th>\n",
              "      <th>spoken_languages</th>\n",
              "      <th>vote_average</th>\n",
              "      <th>vote_count</th>\n",
              "    </tr>\n",
              "  </thead>\n",
              "  <tbody>\n",
              "    <tr>\n",
              "      <th>0</th>\n",
              "      <td>6.34332</td>\n",
              "      <td>6.59219</td>\n",
              "      <td>4000000.0</td>\n",
              "      <td>6.17005</td>\n",
              "      <td>6.38634</td>\n",
              "      <td>6.21703</td>\n",
              "      <td>22.876230</td>\n",
              "      <td>6.98509</td>\n",
              "      <td>6.21152</td>\n",
              "      <td>12/09/1995</td>\n",
              "      <td>4300000.0</td>\n",
              "      <td>98.0</td>\n",
              "      <td>6.22527</td>\n",
              "      <td>6.5</td>\n",
              "      <td>530.0</td>\n",
              "    </tr>\n",
              "    <tr>\n",
              "      <th>1</th>\n",
              "      <td>7.97777</td>\n",
              "      <td>6.975</td>\n",
              "      <td>11000000.0</td>\n",
              "      <td>6.1573</td>\n",
              "      <td>7.2659</td>\n",
              "      <td>6.21703</td>\n",
              "      <td>126.393695</td>\n",
              "      <td>6.70531</td>\n",
              "      <td>6.21152</td>\n",
              "      <td>5/25/1977</td>\n",
              "      <td>775398007.0</td>\n",
              "      <td>121.0</td>\n",
              "      <td>6.22527</td>\n",
              "      <td>8.1</td>\n",
              "      <td>6624.0</td>\n",
              "    </tr>\n",
              "    <tr>\n",
              "      <th>2</th>\n",
              "      <td>6.73398</td>\n",
              "      <td>7.075</td>\n",
              "      <td>94000000.0</td>\n",
              "      <td>6.276</td>\n",
              "      <td>6.98071</td>\n",
              "      <td>6.21703</td>\n",
              "      <td>85.688789</td>\n",
              "      <td>7.32</td>\n",
              "      <td>6.21152</td>\n",
              "      <td>5/30/2003</td>\n",
              "      <td>940335536.0</td>\n",
              "      <td>100.0</td>\n",
              "      <td>6.22527</td>\n",
              "      <td>7.6</td>\n",
              "      <td>6122.0</td>\n",
              "    </tr>\n",
              "    <tr>\n",
              "      <th>3</th>\n",
              "      <td>7.68931</td>\n",
              "      <td>6.91538</td>\n",
              "      <td>55000000.0</td>\n",
              "      <td>6.26548</td>\n",
              "      <td>7.11038</td>\n",
              "      <td>6.21703</td>\n",
              "      <td>138.133331</td>\n",
              "      <td>6.19323</td>\n",
              "      <td>6.21152</td>\n",
              "      <td>07/06/1994</td>\n",
              "      <td>677945399.0</td>\n",
              "      <td>142.0</td>\n",
              "      <td>6.22527</td>\n",
              "      <td>8.2</td>\n",
              "      <td>7927.0</td>\n",
              "    </tr>\n",
              "    <tr>\n",
              "      <th>4</th>\n",
              "      <td>7.11323</td>\n",
              "      <td>6.75</td>\n",
              "      <td>15000000.0</td>\n",
              "      <td>6.5066</td>\n",
              "      <td>6.56293</td>\n",
              "      <td>6.21703</td>\n",
              "      <td>80.878605</td>\n",
              "      <td>7.09797</td>\n",
              "      <td>6.21152</td>\n",
              "      <td>9/15/1999</td>\n",
              "      <td>356296601.0</td>\n",
              "      <td>122.0</td>\n",
              "      <td>6.22527</td>\n",
              "      <td>7.9</td>\n",
              "      <td>3313.0</td>\n",
              "    </tr>\n",
              "    <tr>\n",
              "      <th>...</th>\n",
              "      <td>...</td>\n",
              "      <td>...</td>\n",
              "      <td>...</td>\n",
              "      <td>...</td>\n",
              "      <td>...</td>\n",
              "      <td>...</td>\n",
              "      <td>...</td>\n",
              "      <td>...</td>\n",
              "      <td>...</td>\n",
              "      <td>...</td>\n",
              "      <td>...</td>\n",
              "      <td>...</td>\n",
              "      <td>...</td>\n",
              "      <td>...</td>\n",
              "      <td>...</td>\n",
              "    </tr>\n",
              "    <tr>\n",
              "      <th>4775</th>\n",
              "      <td>7.26667</td>\n",
              "      <td>7.3</td>\n",
              "      <td>4500000.0</td>\n",
              "      <td>6.3788</td>\n",
              "      <td>6.49125</td>\n",
              "      <td>6.43333</td>\n",
              "      <td>2.551559</td>\n",
              "      <td>7.3</td>\n",
              "      <td>6.38235</td>\n",
              "      <td>1/22/2016</td>\n",
              "      <td>32000000.0</td>\n",
              "      <td>126.0</td>\n",
              "      <td>6.58436</td>\n",
              "      <td>7.3</td>\n",
              "      <td>57.0</td>\n",
              "    </tr>\n",
              "    <tr>\n",
              "      <th>4779</th>\n",
              "      <td>6.28544</td>\n",
              "      <td>6</td>\n",
              "      <td>20000000.0</td>\n",
              "      <td>6.01028</td>\n",
              "      <td>6.1866</td>\n",
              "      <td>6.21703</td>\n",
              "      <td>42.512296</td>\n",
              "      <td>6.18333</td>\n",
              "      <td>6.21152</td>\n",
              "      <td>7/28/2016</td>\n",
              "      <td>183936074.0</td>\n",
              "      <td>100.0</td>\n",
              "      <td>6.30627</td>\n",
              "      <td>6.3</td>\n",
              "      <td>1252.0</td>\n",
              "    </tr>\n",
              "    <tr>\n",
              "      <th>4785</th>\n",
              "      <td>6</td>\n",
              "      <td>6</td>\n",
              "      <td>68490000.0</td>\n",
              "      <td>6.14473</td>\n",
              "      <td>6.15</td>\n",
              "      <td>6.34348</td>\n",
              "      <td>4.726290</td>\n",
              "      <td>6</td>\n",
              "      <td>6.37742</td>\n",
              "      <td>1/22/2016</td>\n",
              "      <td>193677158.0</td>\n",
              "      <td>120.0</td>\n",
              "      <td>6.39894</td>\n",
              "      <td>6.0</td>\n",
              "      <td>24.0</td>\n",
              "    </tr>\n",
              "    <tr>\n",
              "      <th>4786</th>\n",
              "      <td>3.9</td>\n",
              "      <td>3.9</td>\n",
              "      <td>27000000.0</td>\n",
              "      <td>6.30508</td>\n",
              "      <td>6.11862</td>\n",
              "      <td>6.21703</td>\n",
              "      <td>1.224105</td>\n",
              "      <td>3.9</td>\n",
              "      <td>6.21152</td>\n",
              "      <td>7/22/2016</td>\n",
              "      <td>0.0</td>\n",
              "      <td>90.0</td>\n",
              "      <td>6.12514</td>\n",
              "      <td>3.9</td>\n",
              "      <td>8.0</td>\n",
              "    </tr>\n",
              "    <tr>\n",
              "      <th>4797</th>\n",
              "      <td>6.31913</td>\n",
              "      <td>6.2</td>\n",
              "      <td>130000000.0</td>\n",
              "      <td>6.19724</td>\n",
              "      <td>6.48021</td>\n",
              "      <td>6.21703</td>\n",
              "      <td>20.678787</td>\n",
              "      <td>6.21429</td>\n",
              "      <td>6.21152</td>\n",
              "      <td>10/28/2011</td>\n",
              "      <td>554987477.0</td>\n",
              "      <td>90.0</td>\n",
              "      <td>6.30405</td>\n",
              "      <td>6.4</td>\n",
              "      <td>451.0</td>\n",
              "    </tr>\n",
              "  </tbody>\n",
              "</table>\n",
              "<p>3086 rows × 15 columns</p>\n",
              "</div>"
            ],
            "text/plain": [
              "         cast     crew       budget  ... spoken_languages vote_average vote_count\n",
              "0     6.34332  6.59219    4000000.0  ...          6.22527          6.5      530.0\n",
              "1     7.97777    6.975   11000000.0  ...          6.22527          8.1     6624.0\n",
              "2     6.73398    7.075   94000000.0  ...          6.22527          7.6     6122.0\n",
              "3     7.68931  6.91538   55000000.0  ...          6.22527          8.2     7927.0\n",
              "4     7.11323     6.75   15000000.0  ...          6.22527          7.9     3313.0\n",
              "...       ...      ...          ...  ...              ...          ...        ...\n",
              "4775  7.26667      7.3    4500000.0  ...          6.58436          7.3       57.0\n",
              "4779  6.28544        6   20000000.0  ...          6.30627          6.3     1252.0\n",
              "4785        6        6   68490000.0  ...          6.39894          6.0       24.0\n",
              "4786      3.9      3.9   27000000.0  ...          6.12514          3.9        8.0\n",
              "4797  6.31913      6.2  130000000.0  ...          6.30405          6.4      451.0\n",
              "\n",
              "[3086 rows x 15 columns]"
            ]
          },
          "metadata": {
            "tags": []
          },
          "execution_count": 743
        }
      ]
    },
    {
      "cell_type": "code",
      "metadata": {
        "id": "5Lx3FuJjDgct",
        "colab_type": "code",
        "colab": {}
      },
      "source": [
        "movies_2=movies_2[movies_2[\"vote_average\"]!=0]"
      ],
      "execution_count": 0,
      "outputs": []
    },
    {
      "cell_type": "code",
      "metadata": {
        "id": "_NYvDmTg_AB7",
        "colab_type": "code",
        "colab": {
          "base_uri": "https://localhost:8080/",
          "height": 170
        },
        "outputId": "0b1f75d1-51ae-45c3-9603-74c343b414b5"
      },
      "source": [
        "movies_2[\"vote_count\"].describe()"
      ],
      "execution_count": 745,
      "outputs": [
        {
          "output_type": "execute_result",
          "data": {
            "text/plain": [
              "count     3086.000000\n",
              "mean       993.596565\n",
              "std       1435.548266\n",
              "min          2.000000\n",
              "25%        179.000000\n",
              "50%        472.500000\n",
              "75%       1165.000000\n",
              "max      13752.000000\n",
              "Name: vote_count, dtype: float64"
            ]
          },
          "metadata": {
            "tags": []
          },
          "execution_count": 745
        }
      ]
    },
    {
      "cell_type": "code",
      "metadata": {
        "id": "Dp9XL1a0_KU2",
        "colab_type": "code",
        "colab": {}
      },
      "source": [
        "movies_2=movies_2[movies_2[\"vote_count\"]!=100]"
      ],
      "execution_count": 0,
      "outputs": []
    },
    {
      "cell_type": "code",
      "metadata": {
        "id": "XxkCAHwyDpB2",
        "colab_type": "code",
        "colab": {}
      },
      "source": [
        "movies_2 = movies_2.drop(\"vote_count\",axis=1)"
      ],
      "execution_count": 0,
      "outputs": []
    },
    {
      "cell_type": "code",
      "metadata": {
        "id": "VY8-bHIpEBFa",
        "colab_type": "code",
        "colab": {}
      },
      "source": [
        "movies_2['release_date'] = pd.DatetimeIndex(movies_2['release_date']).year"
      ],
      "execution_count": 0,
      "outputs": []
    },
    {
      "cell_type": "code",
      "metadata": {
        "id": "YWTHoUhiETzs",
        "colab_type": "code",
        "colab": {}
      },
      "source": [
        "movies_2 = movies_2[movies_2[\"revenue\"]!=0]\n"
      ],
      "execution_count": 0,
      "outputs": []
    },
    {
      "cell_type": "code",
      "metadata": {
        "id": "-McwgyOn_WGl",
        "colab_type": "code",
        "colab": {
          "base_uri": "https://localhost:8080/",
          "height": 439
        },
        "outputId": "5f1e7bfd-e43d-43f8-c65c-7bfb8a9d29b3"
      },
      "source": [
        "movies_2"
      ],
      "execution_count": 750,
      "outputs": [
        {
          "output_type": "execute_result",
          "data": {
            "text/html": [
              "<div>\n",
              "<style scoped>\n",
              "    .dataframe tbody tr th:only-of-type {\n",
              "        vertical-align: middle;\n",
              "    }\n",
              "\n",
              "    .dataframe tbody tr th {\n",
              "        vertical-align: top;\n",
              "    }\n",
              "\n",
              "    .dataframe thead th {\n",
              "        text-align: right;\n",
              "    }\n",
              "</style>\n",
              "<table border=\"1\" class=\"dataframe\">\n",
              "  <thead>\n",
              "    <tr style=\"text-align: right;\">\n",
              "      <th></th>\n",
              "      <th>cast</th>\n",
              "      <th>crew</th>\n",
              "      <th>budget</th>\n",
              "      <th>genres</th>\n",
              "      <th>keywords</th>\n",
              "      <th>original_language</th>\n",
              "      <th>popularity</th>\n",
              "      <th>production_companies</th>\n",
              "      <th>production_countries</th>\n",
              "      <th>release_date</th>\n",
              "      <th>revenue</th>\n",
              "      <th>runtime</th>\n",
              "      <th>spoken_languages</th>\n",
              "      <th>vote_average</th>\n",
              "    </tr>\n",
              "  </thead>\n",
              "  <tbody>\n",
              "    <tr>\n",
              "      <th>0</th>\n",
              "      <td>6.34332</td>\n",
              "      <td>6.59219</td>\n",
              "      <td>4000000.0</td>\n",
              "      <td>6.17005</td>\n",
              "      <td>6.38634</td>\n",
              "      <td>6.21703</td>\n",
              "      <td>22.876230</td>\n",
              "      <td>6.98509</td>\n",
              "      <td>6.21152</td>\n",
              "      <td>1995</td>\n",
              "      <td>4300000.0</td>\n",
              "      <td>98.0</td>\n",
              "      <td>6.22527</td>\n",
              "      <td>6.5</td>\n",
              "    </tr>\n",
              "    <tr>\n",
              "      <th>1</th>\n",
              "      <td>7.97777</td>\n",
              "      <td>6.975</td>\n",
              "      <td>11000000.0</td>\n",
              "      <td>6.1573</td>\n",
              "      <td>7.2659</td>\n",
              "      <td>6.21703</td>\n",
              "      <td>126.393695</td>\n",
              "      <td>6.70531</td>\n",
              "      <td>6.21152</td>\n",
              "      <td>1977</td>\n",
              "      <td>775398007.0</td>\n",
              "      <td>121.0</td>\n",
              "      <td>6.22527</td>\n",
              "      <td>8.1</td>\n",
              "    </tr>\n",
              "    <tr>\n",
              "      <th>2</th>\n",
              "      <td>6.73398</td>\n",
              "      <td>7.075</td>\n",
              "      <td>94000000.0</td>\n",
              "      <td>6.276</td>\n",
              "      <td>6.98071</td>\n",
              "      <td>6.21703</td>\n",
              "      <td>85.688789</td>\n",
              "      <td>7.32</td>\n",
              "      <td>6.21152</td>\n",
              "      <td>2003</td>\n",
              "      <td>940335536.0</td>\n",
              "      <td>100.0</td>\n",
              "      <td>6.22527</td>\n",
              "      <td>7.6</td>\n",
              "    </tr>\n",
              "    <tr>\n",
              "      <th>3</th>\n",
              "      <td>7.68931</td>\n",
              "      <td>6.91538</td>\n",
              "      <td>55000000.0</td>\n",
              "      <td>6.26548</td>\n",
              "      <td>7.11038</td>\n",
              "      <td>6.21703</td>\n",
              "      <td>138.133331</td>\n",
              "      <td>6.19323</td>\n",
              "      <td>6.21152</td>\n",
              "      <td>1994</td>\n",
              "      <td>677945399.0</td>\n",
              "      <td>142.0</td>\n",
              "      <td>6.22527</td>\n",
              "      <td>8.2</td>\n",
              "    </tr>\n",
              "    <tr>\n",
              "      <th>4</th>\n",
              "      <td>7.11323</td>\n",
              "      <td>6.75</td>\n",
              "      <td>15000000.0</td>\n",
              "      <td>6.5066</td>\n",
              "      <td>6.56293</td>\n",
              "      <td>6.21703</td>\n",
              "      <td>80.878605</td>\n",
              "      <td>7.09797</td>\n",
              "      <td>6.21152</td>\n",
              "      <td>1999</td>\n",
              "      <td>356296601.0</td>\n",
              "      <td>122.0</td>\n",
              "      <td>6.22527</td>\n",
              "      <td>7.9</td>\n",
              "    </tr>\n",
              "    <tr>\n",
              "      <th>...</th>\n",
              "      <td>...</td>\n",
              "      <td>...</td>\n",
              "      <td>...</td>\n",
              "      <td>...</td>\n",
              "      <td>...</td>\n",
              "      <td>...</td>\n",
              "      <td>...</td>\n",
              "      <td>...</td>\n",
              "      <td>...</td>\n",
              "      <td>...</td>\n",
              "      <td>...</td>\n",
              "      <td>...</td>\n",
              "      <td>...</td>\n",
              "      <td>...</td>\n",
              "    </tr>\n",
              "    <tr>\n",
              "      <th>4764</th>\n",
              "      <td>6.486</td>\n",
              "      <td>6.5</td>\n",
              "      <td>36000000.0</td>\n",
              "      <td>6.45975</td>\n",
              "      <td>6.89655</td>\n",
              "      <td>6.43636</td>\n",
              "      <td>19.167377</td>\n",
              "      <td>6.5</td>\n",
              "      <td>6.33409</td>\n",
              "      <td>2015</td>\n",
              "      <td>156844753.0</td>\n",
              "      <td>105.0</td>\n",
              "      <td>6.27381</td>\n",
              "      <td>6.5</td>\n",
              "    </tr>\n",
              "    <tr>\n",
              "      <th>4775</th>\n",
              "      <td>7.26667</td>\n",
              "      <td>7.3</td>\n",
              "      <td>4500000.0</td>\n",
              "      <td>6.3788</td>\n",
              "      <td>6.49125</td>\n",
              "      <td>6.43333</td>\n",
              "      <td>2.551559</td>\n",
              "      <td>7.3</td>\n",
              "      <td>6.38235</td>\n",
              "      <td>2016</td>\n",
              "      <td>32000000.0</td>\n",
              "      <td>126.0</td>\n",
              "      <td>6.58436</td>\n",
              "      <td>7.3</td>\n",
              "    </tr>\n",
              "    <tr>\n",
              "      <th>4779</th>\n",
              "      <td>6.28544</td>\n",
              "      <td>6</td>\n",
              "      <td>20000000.0</td>\n",
              "      <td>6.01028</td>\n",
              "      <td>6.1866</td>\n",
              "      <td>6.21703</td>\n",
              "      <td>42.512296</td>\n",
              "      <td>6.18333</td>\n",
              "      <td>6.21152</td>\n",
              "      <td>2016</td>\n",
              "      <td>183936074.0</td>\n",
              "      <td>100.0</td>\n",
              "      <td>6.30627</td>\n",
              "      <td>6.3</td>\n",
              "    </tr>\n",
              "    <tr>\n",
              "      <th>4785</th>\n",
              "      <td>6</td>\n",
              "      <td>6</td>\n",
              "      <td>68490000.0</td>\n",
              "      <td>6.14473</td>\n",
              "      <td>6.15</td>\n",
              "      <td>6.34348</td>\n",
              "      <td>4.726290</td>\n",
              "      <td>6</td>\n",
              "      <td>6.37742</td>\n",
              "      <td>2016</td>\n",
              "      <td>193677158.0</td>\n",
              "      <td>120.0</td>\n",
              "      <td>6.39894</td>\n",
              "      <td>6.0</td>\n",
              "    </tr>\n",
              "    <tr>\n",
              "      <th>4797</th>\n",
              "      <td>6.31913</td>\n",
              "      <td>6.2</td>\n",
              "      <td>130000000.0</td>\n",
              "      <td>6.19724</td>\n",
              "      <td>6.48021</td>\n",
              "      <td>6.21703</td>\n",
              "      <td>20.678787</td>\n",
              "      <td>6.21429</td>\n",
              "      <td>6.21152</td>\n",
              "      <td>2011</td>\n",
              "      <td>554987477.0</td>\n",
              "      <td>90.0</td>\n",
              "      <td>6.30405</td>\n",
              "      <td>6.4</td>\n",
              "    </tr>\n",
              "  </tbody>\n",
              "</table>\n",
              "<p>2769 rows × 14 columns</p>\n",
              "</div>"
            ],
            "text/plain": [
              "         cast     crew       budget  ... runtime spoken_languages vote_average\n",
              "0     6.34332  6.59219    4000000.0  ...    98.0          6.22527          6.5\n",
              "1     7.97777    6.975   11000000.0  ...   121.0          6.22527          8.1\n",
              "2     6.73398    7.075   94000000.0  ...   100.0          6.22527          7.6\n",
              "3     7.68931  6.91538   55000000.0  ...   142.0          6.22527          8.2\n",
              "4     7.11323     6.75   15000000.0  ...   122.0          6.22527          7.9\n",
              "...       ...      ...          ...  ...     ...              ...          ...\n",
              "4764    6.486      6.5   36000000.0  ...   105.0          6.27381          6.5\n",
              "4775  7.26667      7.3    4500000.0  ...   126.0          6.58436          7.3\n",
              "4779  6.28544        6   20000000.0  ...   100.0          6.30627          6.3\n",
              "4785        6        6   68490000.0  ...   120.0          6.39894          6.0\n",
              "4797  6.31913      6.2  130000000.0  ...    90.0          6.30405          6.4\n",
              "\n",
              "[2769 rows x 14 columns]"
            ]
          },
          "metadata": {
            "tags": []
          },
          "execution_count": 750
        }
      ]
    },
    {
      "cell_type": "code",
      "metadata": {
        "id": "Ggw4ahXAEawi",
        "colab_type": "code",
        "colab": {}
      },
      "source": [
        "movies_2[\"original_language\"]=movies_2[\"original_language\"].astype(float)\n",
        "movies_2[\"cast\"]=movies_2[\"cast\"].astype(float)\n",
        "movies_2[\"crew\"]=movies_2[\"crew\"].astype(float)\n",
        "movies_2[\"keywords\"]=movies_2[\"keywords\"].astype(float)\n",
        "movies_2[\"genres\"]=movies_2[\"genres\"].astype(float)\n",
        "movies_2[\"production_companies\"]=movies_2[\"production_companies\"].astype(float)\n",
        "movies_2[\"production_countries\"]=movies_2[\"production_countries\"].astype(float)\n",
        "movies_2[\"genres\"]=movies_2[\"genres\"].astype(float)\n",
        "movies_2[\"spoken_languages\"]=movies_2[\"genres\"].astype(float)"
      ],
      "execution_count": 0,
      "outputs": []
    },
    {
      "cell_type": "code",
      "metadata": {
        "id": "lUfxFnjl_xQj",
        "colab_type": "code",
        "colab": {
          "base_uri": "https://localhost:8080/",
          "height": 272
        },
        "outputId": "3730eb90-c7cd-4a5a-febe-a85848b1862d"
      },
      "source": [
        "movies_2.corr()[\"vote_average\"]"
      ],
      "execution_count": 752,
      "outputs": [
        {
          "output_type": "execute_result",
          "data": {
            "text/plain": [
              "cast                    0.911024\n",
              "crew                    0.785406\n",
              "budget                 -0.004768\n",
              "genres                  0.387316\n",
              "keywords                0.794709\n",
              "original_language       0.127489\n",
              "popularity              0.310375\n",
              "production_companies    0.736130\n",
              "production_countries    0.180361\n",
              "release_date           -0.143053\n",
              "revenue                 0.227186\n",
              "runtime                 0.416995\n",
              "spoken_languages        0.387316\n",
              "vote_average            1.000000\n",
              "Name: vote_average, dtype: float64"
            ]
          },
          "metadata": {
            "tags": []
          },
          "execution_count": 752
        }
      ]
    },
    {
      "cell_type": "code",
      "metadata": {
        "id": "dX6v1mGRIGUQ",
        "colab_type": "code",
        "colab": {}
      },
      "source": [
        "movies_3 = movies_2[pd.DataFrame(movies_2.corr().abs()[\"vote_average\"][movies_2.corr().abs()[\"vote_average\"]>0.3]).index]\n"
      ],
      "execution_count": 0,
      "outputs": []
    },
    {
      "cell_type": "code",
      "metadata": {
        "id": "ph4f7oxzEcqT",
        "colab_type": "code",
        "outputId": "4deb629f-56e1-4ce6-cb84-fa20a471e32d",
        "colab": {
          "base_uri": "https://localhost:8080/",
          "height": 419
        }
      },
      "source": [
        "movies_3"
      ],
      "execution_count": 860,
      "outputs": [
        {
          "output_type": "execute_result",
          "data": {
            "text/html": [
              "<div>\n",
              "<style scoped>\n",
              "    .dataframe tbody tr th:only-of-type {\n",
              "        vertical-align: middle;\n",
              "    }\n",
              "\n",
              "    .dataframe tbody tr th {\n",
              "        vertical-align: top;\n",
              "    }\n",
              "\n",
              "    .dataframe thead th {\n",
              "        text-align: right;\n",
              "    }\n",
              "</style>\n",
              "<table border=\"1\" class=\"dataframe\">\n",
              "  <thead>\n",
              "    <tr style=\"text-align: right;\">\n",
              "      <th></th>\n",
              "      <th>cast</th>\n",
              "      <th>crew</th>\n",
              "      <th>genres</th>\n",
              "      <th>keywords</th>\n",
              "      <th>popularity</th>\n",
              "      <th>production_companies</th>\n",
              "      <th>runtime</th>\n",
              "      <th>spoken_languages</th>\n",
              "      <th>vote_average</th>\n",
              "    </tr>\n",
              "  </thead>\n",
              "  <tbody>\n",
              "    <tr>\n",
              "      <th>0</th>\n",
              "      <td>6.343323</td>\n",
              "      <td>6.592187</td>\n",
              "      <td>6.170050</td>\n",
              "      <td>6.386336</td>\n",
              "      <td>22.876230</td>\n",
              "      <td>6.985088</td>\n",
              "      <td>98.0</td>\n",
              "      <td>6.170050</td>\n",
              "      <td>6.5</td>\n",
              "    </tr>\n",
              "    <tr>\n",
              "      <th>1</th>\n",
              "      <td>7.977772</td>\n",
              "      <td>6.975000</td>\n",
              "      <td>6.157302</td>\n",
              "      <td>7.265905</td>\n",
              "      <td>126.393695</td>\n",
              "      <td>6.705308</td>\n",
              "      <td>121.0</td>\n",
              "      <td>6.157302</td>\n",
              "      <td>8.1</td>\n",
              "    </tr>\n",
              "    <tr>\n",
              "      <th>2</th>\n",
              "      <td>6.733985</td>\n",
              "      <td>7.075000</td>\n",
              "      <td>6.276000</td>\n",
              "      <td>6.980714</td>\n",
              "      <td>85.688789</td>\n",
              "      <td>7.320000</td>\n",
              "      <td>100.0</td>\n",
              "      <td>6.276000</td>\n",
              "      <td>7.6</td>\n",
              "    </tr>\n",
              "    <tr>\n",
              "      <th>3</th>\n",
              "      <td>7.689308</td>\n",
              "      <td>6.915385</td>\n",
              "      <td>6.265480</td>\n",
              "      <td>7.110381</td>\n",
              "      <td>138.133331</td>\n",
              "      <td>6.193227</td>\n",
              "      <td>142.0</td>\n",
              "      <td>6.265480</td>\n",
              "      <td>8.2</td>\n",
              "    </tr>\n",
              "    <tr>\n",
              "      <th>4</th>\n",
              "      <td>7.113230</td>\n",
              "      <td>6.750000</td>\n",
              "      <td>6.506601</td>\n",
              "      <td>6.562927</td>\n",
              "      <td>80.878605</td>\n",
              "      <td>7.097973</td>\n",
              "      <td>122.0</td>\n",
              "      <td>6.506601</td>\n",
              "      <td>7.9</td>\n",
              "    </tr>\n",
              "    <tr>\n",
              "      <th>...</th>\n",
              "      <td>...</td>\n",
              "      <td>...</td>\n",
              "      <td>...</td>\n",
              "      <td>...</td>\n",
              "      <td>...</td>\n",
              "      <td>...</td>\n",
              "      <td>...</td>\n",
              "      <td>...</td>\n",
              "      <td>...</td>\n",
              "    </tr>\n",
              "    <tr>\n",
              "      <th>4764</th>\n",
              "      <td>6.486000</td>\n",
              "      <td>6.500000</td>\n",
              "      <td>6.459751</td>\n",
              "      <td>6.896552</td>\n",
              "      <td>19.167377</td>\n",
              "      <td>6.500000</td>\n",
              "      <td>105.0</td>\n",
              "      <td>6.459751</td>\n",
              "      <td>6.5</td>\n",
              "    </tr>\n",
              "    <tr>\n",
              "      <th>4775</th>\n",
              "      <td>7.266667</td>\n",
              "      <td>7.300000</td>\n",
              "      <td>6.378801</td>\n",
              "      <td>6.491249</td>\n",
              "      <td>2.551559</td>\n",
              "      <td>7.300000</td>\n",
              "      <td>126.0</td>\n",
              "      <td>6.378801</td>\n",
              "      <td>7.3</td>\n",
              "    </tr>\n",
              "    <tr>\n",
              "      <th>4779</th>\n",
              "      <td>6.285439</td>\n",
              "      <td>6.000000</td>\n",
              "      <td>6.010276</td>\n",
              "      <td>6.186604</td>\n",
              "      <td>42.512296</td>\n",
              "      <td>6.183333</td>\n",
              "      <td>100.0</td>\n",
              "      <td>6.010276</td>\n",
              "      <td>6.3</td>\n",
              "    </tr>\n",
              "    <tr>\n",
              "      <th>4785</th>\n",
              "      <td>6.000000</td>\n",
              "      <td>6.000000</td>\n",
              "      <td>6.144731</td>\n",
              "      <td>6.150000</td>\n",
              "      <td>4.726290</td>\n",
              "      <td>6.000000</td>\n",
              "      <td>120.0</td>\n",
              "      <td>6.144731</td>\n",
              "      <td>6.0</td>\n",
              "    </tr>\n",
              "    <tr>\n",
              "      <th>4797</th>\n",
              "      <td>6.319125</td>\n",
              "      <td>6.200000</td>\n",
              "      <td>6.197238</td>\n",
              "      <td>6.480208</td>\n",
              "      <td>20.678787</td>\n",
              "      <td>6.214286</td>\n",
              "      <td>90.0</td>\n",
              "      <td>6.197238</td>\n",
              "      <td>6.4</td>\n",
              "    </tr>\n",
              "  </tbody>\n",
              "</table>\n",
              "<p>2769 rows × 9 columns</p>\n",
              "</div>"
            ],
            "text/plain": [
              "          cast      crew    genres  ...  runtime  spoken_languages  vote_average\n",
              "0     6.343323  6.592187  6.170050  ...     98.0          6.170050           6.5\n",
              "1     7.977772  6.975000  6.157302  ...    121.0          6.157302           8.1\n",
              "2     6.733985  7.075000  6.276000  ...    100.0          6.276000           7.6\n",
              "3     7.689308  6.915385  6.265480  ...    142.0          6.265480           8.2\n",
              "4     7.113230  6.750000  6.506601  ...    122.0          6.506601           7.9\n",
              "...        ...       ...       ...  ...      ...               ...           ...\n",
              "4764  6.486000  6.500000  6.459751  ...    105.0          6.459751           6.5\n",
              "4775  7.266667  7.300000  6.378801  ...    126.0          6.378801           7.3\n",
              "4779  6.285439  6.000000  6.010276  ...    100.0          6.010276           6.3\n",
              "4785  6.000000  6.000000  6.144731  ...    120.0          6.144731           6.0\n",
              "4797  6.319125  6.200000  6.197238  ...     90.0          6.197238           6.4\n",
              "\n",
              "[2769 rows x 9 columns]"
            ]
          },
          "metadata": {
            "tags": []
          },
          "execution_count": 860
        }
      ]
    },
    {
      "cell_type": "code",
      "metadata": {
        "id": "3zcFt8zotDQF",
        "colab_type": "code",
        "colab": {}
      },
      "source": [
        "x=movies_3.copy()"
      ],
      "execution_count": 0,
      "outputs": []
    },
    {
      "cell_type": "code",
      "metadata": {
        "id": "mtiRrlyDtDQH",
        "colab_type": "code",
        "outputId": "171d8ad0-df3c-41d6-c771-89a514d1f348",
        "colab": {
          "base_uri": "https://localhost:8080/",
          "height": 68
        }
      },
      "source": [
        "x.columns[:]"
      ],
      "execution_count": 862,
      "outputs": [
        {
          "output_type": "execute_result",
          "data": {
            "text/plain": [
              "Index(['cast', 'crew', 'genres', 'keywords', 'popularity',\n",
              "       'production_companies', 'runtime', 'spoken_languages', 'vote_average'],\n",
              "      dtype='object')"
            ]
          },
          "metadata": {
            "tags": []
          },
          "execution_count": 862
        }
      ]
    },
    {
      "cell_type": "code",
      "metadata": {
        "scrolled": false,
        "id": "ZDQXkyJFtDQY",
        "colab_type": "code",
        "outputId": "17443bc8-6392-46d2-f44f-15c3abfd82e4",
        "colab": {
          "base_uri": "https://localhost:8080/",
          "height": 187
        }
      },
      "source": [
        "x.isna().sum()"
      ],
      "execution_count": 863,
      "outputs": [
        {
          "output_type": "execute_result",
          "data": {
            "text/plain": [
              "cast                    0\n",
              "crew                    0\n",
              "genres                  0\n",
              "keywords                0\n",
              "popularity              0\n",
              "production_companies    0\n",
              "runtime                 0\n",
              "spoken_languages        0\n",
              "vote_average            0\n",
              "dtype: int64"
            ]
          },
          "metadata": {
            "tags": []
          },
          "execution_count": 863
        }
      ]
    },
    {
      "cell_type": "code",
      "metadata": {
        "id": "Hah_MK3FtDQf",
        "colab_type": "code",
        "colab": {}
      },
      "source": [
        "y=np.array(x[\"vote_average\"])"
      ],
      "execution_count": 0,
      "outputs": []
    },
    {
      "cell_type": "code",
      "metadata": {
        "id": "rUKyT2GqtDQa",
        "colab_type": "code",
        "colab": {}
      },
      "source": [
        "x = x.drop([\"vote_average\"],axis=1)"
      ],
      "execution_count": 0,
      "outputs": []
    },
    {
      "cell_type": "code",
      "metadata": {
        "id": "Mgv4D4tytDQc",
        "colab_type": "code",
        "colab": {}
      },
      "source": [
        "x=x.values"
      ],
      "execution_count": 0,
      "outputs": []
    },
    {
      "cell_type": "code",
      "metadata": {
        "id": "8D9lAoDytDQd",
        "colab_type": "code",
        "outputId": "e81fdfc3-7bef-4909-b5c8-00b8e1a9eec1",
        "colab": {
          "base_uri": "https://localhost:8080/",
          "height": 34
        }
      },
      "source": [
        "x.shape"
      ],
      "execution_count": 867,
      "outputs": [
        {
          "output_type": "execute_result",
          "data": {
            "text/plain": [
              "(2769, 8)"
            ]
          },
          "metadata": {
            "tags": []
          },
          "execution_count": 867
        }
      ]
    },
    {
      "cell_type": "code",
      "metadata": {
        "id": "O5WzO97DtDQg",
        "colab_type": "code",
        "outputId": "c13dcd0f-20d3-4f2c-afdc-6f31931566ba",
        "colab": {
          "base_uri": "https://localhost:8080/",
          "height": 34
        }
      },
      "source": [
        "y.shape"
      ],
      "execution_count": 868,
      "outputs": [
        {
          "output_type": "execute_result",
          "data": {
            "text/plain": [
              "(2769,)"
            ]
          },
          "metadata": {
            "tags": []
          },
          "execution_count": 868
        }
      ]
    },
    {
      "cell_type": "code",
      "metadata": {
        "id": "xEWQ0giHtDQh",
        "colab_type": "code",
        "colab": {}
      },
      "source": [
        "from sklearn.model_selection import train_test_split\n",
        "X_train, X_test, y_train, y_test = train_test_split(x, y, test_size = 0.2,shuffle=True)"
      ],
      "execution_count": 0,
      "outputs": []
    },
    {
      "cell_type": "code",
      "metadata": {
        "id": "m3yjAOJttDQi",
        "colab_type": "code",
        "colab": {}
      },
      "source": [
        "reg = LinearRegression().fit(X_train, y_train)"
      ],
      "execution_count": 0,
      "outputs": []
    },
    {
      "cell_type": "code",
      "metadata": {
        "id": "1pwHGjqBtDQq",
        "colab_type": "code",
        "outputId": "9bf7df90-664c-410c-e61f-f58f3be16182",
        "colab": {
          "base_uri": "https://localhost:8080/",
          "height": 34
        }
      },
      "source": [
        "x[:,:].shape"
      ],
      "execution_count": 919,
      "outputs": [
        {
          "output_type": "execute_result",
          "data": {
            "text/plain": [
              "(2769, 8)"
            ]
          },
          "metadata": {
            "tags": []
          },
          "execution_count": 919
        }
      ]
    },
    {
      "cell_type": "code",
      "metadata": {
        "id": "x4O9geKBtDQv",
        "colab_type": "code",
        "colab": {}
      },
      "source": [
        "y_predict = reg.predict(X_test)"
      ],
      "execution_count": 0,
      "outputs": []
    },
    {
      "cell_type": "code",
      "metadata": {
        "id": "wWhnBET_Gijv",
        "colab_type": "code",
        "colab": {}
      },
      "source": [
        "y_predict1 = reg.predict(X_train)"
      ],
      "execution_count": 0,
      "outputs": []
    },
    {
      "cell_type": "code",
      "metadata": {
        "id": "vUma4JRjtDQx",
        "colab_type": "code",
        "colab": {}
      },
      "source": [
        "from sklearn import metrics"
      ],
      "execution_count": 0,
      "outputs": []
    },
    {
      "cell_type": "code",
      "metadata": {
        "id": "6_uP1W5ttDQy",
        "colab_type": "code",
        "outputId": "07856ce2-4195-4170-de00-649d6070cff3",
        "colab": {
          "base_uri": "https://localhost:8080/",
          "height": 34
        }
      },
      "source": [
        "print('Mean Square Error', metrics.mean_squared_error(y_test, y_predict))"
      ],
      "execution_count": 923,
      "outputs": [
        {
          "output_type": "stream",
          "text": [
            "Mean Square Error 0.07479444572542908\n"
          ],
          "name": "stdout"
        }
      ]
    },
    {
      "cell_type": "code",
      "metadata": {
        "id": "4P6kecyiGlk2",
        "colab_type": "code",
        "colab": {
          "base_uri": "https://localhost:8080/",
          "height": 34
        },
        "outputId": "84e8f743-ba98-47a6-d0ff-31b4012d5374"
      },
      "source": [
        "print('Mean Square Error', metrics.mean_squared_error(y_train, y_predict1))"
      ],
      "execution_count": 924,
      "outputs": [
        {
          "output_type": "stream",
          "text": [
            "Mean Square Error 0.08477762791904056\n"
          ],
          "name": "stdout"
        }
      ]
    },
    {
      "cell_type": "code",
      "metadata": {
        "id": "aBbsTVaXtDQ0",
        "colab_type": "code",
        "outputId": "a4bda987-189b-4bc2-a726-8de6df4ea390",
        "colab": {
          "base_uri": "https://localhost:8080/",
          "height": 34
        }
      },
      "source": [
        "reg.score(X_test,y_test)"
      ],
      "execution_count": 925,
      "outputs": [
        {
          "output_type": "execute_result",
          "data": {
            "text/plain": [
              "0.881396698352619"
            ]
          },
          "metadata": {
            "tags": []
          },
          "execution_count": 925
        }
      ]
    },
    {
      "cell_type": "code",
      "metadata": {
        "id": "rf5l9_JttDQ3",
        "colab_type": "code",
        "outputId": "69d2dfb7-6046-456f-8ae9-fdf5dbc04229",
        "colab": {
          "base_uri": "https://localhost:8080/",
          "height": 51
        }
      },
      "source": [
        "count=0\n",
        "for i in range(len(y_test)):\n",
        "    if abs(y_predict[i] - y_test[i])<0.1:   \n",
        "        count+=1\n",
        "print(count/len(y_test))\n",
        "print()"
      ],
      "execution_count": 926,
      "outputs": [
        {
          "output_type": "stream",
          "text": [
            "0.35018050541516244\n",
            "\n"
          ],
          "name": "stdout"
        }
      ]
    },
    {
      "cell_type": "code",
      "metadata": {
        "id": "3-MFQvrlAAkY",
        "colab_type": "code",
        "outputId": "2e862332-5dc5-4720-f7ef-2f9da2d4182a",
        "colab": {
          "base_uri": "https://localhost:8080/",
          "height": 34
        }
      },
      "source": [
        "error=0\n",
        "for i in range(len(y_test)):\n",
        "    error+=(abs(y_predict[i]-y_test[i])/y_test[i])\n",
        "test_error_bay=(error/len(y_test))*100\n",
        "test_error_bay"
      ],
      "execution_count": 927,
      "outputs": [
        {
          "output_type": "execute_result",
          "data": {
            "text/plain": [
              "3.4077035223416057"
            ]
          },
          "metadata": {
            "tags": []
          },
          "execution_count": 927
        }
      ]
    },
    {
      "cell_type": "code",
      "metadata": {
        "id": "Hdml4foRtDQ4",
        "colab_type": "code",
        "outputId": "4807f6ed-0c58-45b9-e014-f87b87dd9476",
        "colab": {
          "base_uri": "https://localhost:8080/",
          "height": 68
        }
      },
      "source": [
        "print(y_test[20:30])\n",
        "print(y_predict[20:30])"
      ],
      "execution_count": 928,
      "outputs": [
        {
          "output_type": "stream",
          "text": [
            "[6.5 6.6 5.5 7.4 7.  6.4 5.7 4.9 6.6 6.2]\n",
            "[6.32593118 6.55954155 6.18927309 7.47956204 7.00261962 6.08271839\n",
            " 5.56978225 5.26918912 6.79247751 5.93476439]\n"
          ],
          "name": "stdout"
        }
      ]
    },
    {
      "cell_type": "code",
      "metadata": {
        "id": "rX2XcoNgtDQ5",
        "colab_type": "code",
        "colab": {}
      },
      "source": [
        "from sklearn.preprocessing import PolynomialFeatures\n",
        "poly = PolynomialFeatures(3)\n",
        "\n"
      ],
      "execution_count": 0,
      "outputs": []
    },
    {
      "cell_type": "code",
      "metadata": {
        "id": "ePAIFzBTtDQ6",
        "colab_type": "code",
        "colab": {}
      },
      "source": [
        "X_train2 = poly.fit_transform(X_train)"
      ],
      "execution_count": 0,
      "outputs": []
    },
    {
      "cell_type": "code",
      "metadata": {
        "id": "lq9ICcjKtDQ_",
        "colab_type": "code",
        "colab": {}
      },
      "source": [
        "reg2 = LinearRegression().fit(X_train2, y_train)\n"
      ],
      "execution_count": 0,
      "outputs": []
    },
    {
      "cell_type": "code",
      "metadata": {
        "id": "IkSDF1gCtDRB",
        "colab_type": "code",
        "colab": {}
      },
      "source": [
        "X_test2 = poly.transform(X_test)\n"
      ],
      "execution_count": 0,
      "outputs": []
    },
    {
      "cell_type": "code",
      "metadata": {
        "id": "-hFc0ZnMtDRD",
        "colab_type": "code",
        "outputId": "50d68592-5ab6-4c54-a157-092db710ad90",
        "colab": {
          "base_uri": "https://localhost:8080/",
          "height": 51
        }
      },
      "source": [
        "y_predict2 = reg2.predict(X_test2)\n",
        "\n",
        "\n",
        "print(reg2.score(X_test2,y_test))\n",
        "\n",
        "print('Mean Square Error', metrics.mean_squared_error(y_test, y_predict2))\n",
        "\n"
      ],
      "execution_count": 949,
      "outputs": [
        {
          "output_type": "stream",
          "text": [
            "0.8938896699964299\n",
            "Mean Square Error 0.06691604034730207\n"
          ],
          "name": "stdout"
        }
      ]
    },
    {
      "cell_type": "code",
      "metadata": {
        "id": "rrRNFsobtDRF",
        "colab_type": "code",
        "outputId": "e050d50a-3b4e-4996-ca69-b5d5d17fca4b",
        "colab": {
          "base_uri": "https://localhost:8080/",
          "height": 119
        }
      },
      "source": [
        "print(y_predict[0:20])\n",
        "print(y_test[0:20])"
      ],
      "execution_count": 950,
      "outputs": [
        {
          "output_type": "stream",
          "text": [
            "[5.44833345 6.25088897 6.57900108 6.54043034 6.73515161 6.357056\n",
            " 5.29823847 6.3429945  5.06575238 5.34190101 6.44911784 6.15653712\n",
            " 6.32685057 5.86882893 6.32918792 4.38284839 5.37181273 6.79263039\n",
            " 6.48372884 6.70784295]\n",
            "[5.5 6.2 6.1 6.6 7.2 6.4 5.6 6.8 4.7 5.7 6.6 6.3 6.6 6.1 6.4 4.8 4.  6.7\n",
            " 6.4 7. ]\n"
          ],
          "name": "stdout"
        }
      ]
    },
    {
      "cell_type": "code",
      "metadata": {
        "id": "HGkQTfxStDRH",
        "colab_type": "code",
        "outputId": "e09271ab-fb85-4473-888b-0340f4086103",
        "colab": {
          "base_uri": "https://localhost:8080/",
          "height": 51
        }
      },
      "source": [
        "count=0\n",
        "for i in range(len(y_test)):\n",
        "    if abs(y_predict2[i] - y_test[i])<0.5:\n",
        "        count+=1\n",
        "print(count/len(y_test))\n",
        "print()"
      ],
      "execution_count": 951,
      "outputs": [
        {
          "output_type": "stream",
          "text": [
            "0.9512635379061372\n",
            "\n"
          ],
          "name": "stdout"
        }
      ]
    },
    {
      "cell_type": "code",
      "metadata": {
        "id": "uPAZv0G3Eh9w",
        "colab_type": "code",
        "outputId": "8682f05c-adba-470e-8762-2c8777b571f7",
        "colab": {
          "base_uri": "https://localhost:8080/",
          "height": 34
        }
      },
      "source": [
        "error=0\n",
        "for i in range(len(y_test)):\n",
        "    error+=(abs(y_predict2[i]-y_test[i])/y_test[i])\n",
        "test_error_bay=(error/len(y_test))*100\n",
        "test_error_bay"
      ],
      "execution_count": 952,
      "outputs": [
        {
          "output_type": "execute_result",
          "data": {
            "text/plain": [
              "3.215863082178725"
            ]
          },
          "metadata": {
            "tags": []
          },
          "execution_count": 952
        }
      ]
    },
    {
      "cell_type": "code",
      "metadata": {
        "id": "6l2DXoBkJhLg",
        "colab_type": "code",
        "colab": {}
      },
      "source": [
        "from sklearn import linear_model\n"
      ],
      "execution_count": 0,
      "outputs": []
    },
    {
      "cell_type": "code",
      "metadata": {
        "id": "x0Uray6KH82c",
        "colab_type": "code",
        "colab": {}
      },
      "source": [
        "model=linear_model.Ridge()\n",
        "model.fit(X_train,y_train)\n",
        "y_predict3=model.predict(X_train)\n"
      ],
      "execution_count": 0,
      "outputs": []
    },
    {
      "cell_type": "code",
      "metadata": {
        "id": "axh7qnoZJSWb",
        "colab_type": "code",
        "outputId": "89ee1f5f-b50b-4055-9061-edcb3c73efd6",
        "colab": {
          "base_uri": "https://localhost:8080/",
          "height": 51
        }
      },
      "source": [
        "error=0\n",
        "for i in range(len(y_train)):\n",
        "    error+=(abs(y_predict3[i]-y_train[i])/y_train[i])\n",
        "test_error_bay=(error/len(y_train))*100\n",
        "print(\"train error\")\n",
        "\n",
        "test_error_bay"
      ],
      "execution_count": 955,
      "outputs": [
        {
          "output_type": "stream",
          "text": [
            "train error\n"
          ],
          "name": "stdout"
        },
        {
          "output_type": "execute_result",
          "data": {
            "text/plain": [
              "3.614105443726437"
            ]
          },
          "metadata": {
            "tags": []
          },
          "execution_count": 955
        }
      ]
    },
    {
      "cell_type": "code",
      "metadata": {
        "id": "a0t1j5qHKVCV",
        "colab_type": "code",
        "outputId": "de4cd976-3fcc-4abb-df38-b00b6130d138",
        "colab": {
          "base_uri": "https://localhost:8080/",
          "height": 68
        }
      },
      "source": [
        "y_predict3=model.predict(X_test)\n",
        "error=0\n",
        "for i in range(len(y_test)):\n",
        "    error+=(abs(y_predict3[i]-y_test[i])/y_test[i])\n",
        "test_error_bay=(error/len(y_test))*100\n",
        "print('Mean Square Error', metrics.mean_squared_error(y_test, y_predict3))\n",
        "print(\"test error\")\n",
        "test_error_bay"
      ],
      "execution_count": 956,
      "outputs": [
        {
          "output_type": "stream",
          "text": [
            "Mean Square Error 0.07479399726474505\n",
            "test error\n"
          ],
          "name": "stdout"
        },
        {
          "output_type": "execute_result",
          "data": {
            "text/plain": [
              "3.4081552222389204"
            ]
          },
          "metadata": {
            "tags": []
          },
          "execution_count": 956
        }
      ]
    },
    {
      "cell_type": "code",
      "metadata": {
        "id": "tbHQ98y1Jw5N",
        "colab_type": "code",
        "outputId": "8da1663e-fb9e-4706-b335-d5aaca61a698",
        "colab": {
          "base_uri": "https://localhost:8080/",
          "height": 51
        }
      },
      "source": [
        "count=0\n",
        "for i in range(len(y_test)):\n",
        "    if abs(y_predict3[i] - y_test[i])<0.9:\n",
        "        count+=1\n",
        "print(count/len(y_test))\n",
        "print()"
      ],
      "execution_count": 957,
      "outputs": [
        {
          "output_type": "stream",
          "text": [
            "0.9927797833935018\n",
            "\n"
          ],
          "name": "stdout"
        }
      ]
    },
    {
      "cell_type": "code",
      "metadata": {
        "id": "HaoNBVJ9J1sW",
        "colab_type": "code",
        "outputId": "7506ed42-06d2-49a5-a5b4-b61ce746467c",
        "colab": {
          "base_uri": "https://localhost:8080/",
          "height": 119
        }
      },
      "source": [
        "print(y_predict[0:20])\n",
        "print(y_test[0:20])"
      ],
      "execution_count": 958,
      "outputs": [
        {
          "output_type": "stream",
          "text": [
            "[5.44833345 6.25088897 6.57900108 6.54043034 6.73515161 6.357056\n",
            " 5.29823847 6.3429945  5.06575238 5.34190101 6.44911784 6.15653712\n",
            " 6.32685057 5.86882893 6.32918792 4.38284839 5.37181273 6.79263039\n",
            " 6.48372884 6.70784295]\n",
            "[5.5 6.2 6.1 6.6 7.2 6.4 5.6 6.8 4.7 5.7 6.6 6.3 6.6 6.1 6.4 4.8 4.  6.7\n",
            " 6.4 7. ]\n"
          ],
          "name": "stdout"
        }
      ]
    },
    {
      "cell_type": "code",
      "metadata": {
        "id": "9l207jM2J5nl",
        "colab_type": "code",
        "colab": {}
      },
      "source": [
        "reg = linear_model.BayesianRidge()\n",
        "reg.fit(X_train,y_train)\n",
        "y1_reg=reg.predict(X_train)\n",
        "y1_reg=list(y1_reg)\n",
        "y2_reg=reg.predict(X_test)\n",
        "y2_reg=list(y2_reg)"
      ],
      "execution_count": 0,
      "outputs": []
    },
    {
      "cell_type": "code",
      "metadata": {
        "id": "CLrSc_EIKpUL",
        "colab_type": "code",
        "outputId": "79563ff5-0af7-4a47-977b-a282a7f99a4a",
        "colab": {
          "base_uri": "https://localhost:8080/",
          "height": 68
        }
      },
      "source": [
        "error=0\n",
        "for i in range(len(y_train)):\n",
        "    error+=(abs(y1_reg[i]-y_train[i])/y_train[i])\n",
        "train_error_bay=error/len(y_train)*100\n",
        "print(\"Train error = \"+'{}'.format(train_error_bay)+\" percent\"+\" in Bayesian Regression\")\n",
        "\n",
        "error=0\n",
        "for i in range(len(y_test)):\n",
        "    error+=(abs(y2_reg[i]-y_test[i])/y_test[i])\n",
        "test_error_bay=(error/len(y_test))*100\n",
        "print(\"Test error = \"+'{}'.format(test_error_bay)+\" percent\"+\" in Bayesian Regression\")\n",
        "print('Mean Square Error', metrics.mean_squared_error(y_test, y2_reg))"
      ],
      "execution_count": 960,
      "outputs": [
        {
          "output_type": "stream",
          "text": [
            "Train error = 3.614013984829963 percent in Bayesian Regression\n",
            "Test error = 3.4079166102504934 percent in Bayesian Regression\n",
            "Mean Square Error 0.07479384745676501\n"
          ],
          "name": "stdout"
        }
      ]
    },
    {
      "cell_type": "code",
      "metadata": {
        "id": "cd4cCB6LLLJS",
        "colab_type": "code",
        "colab": {}
      },
      "source": [
        "from sklearn import svm"
      ],
      "execution_count": 0,
      "outputs": []
    },
    {
      "cell_type": "code",
      "metadata": {
        "id": "3FnvWm9aKvLk",
        "colab_type": "code",
        "outputId": "94ba7dcc-6558-48c0-a0e6-4df65f26d5ae",
        "colab": {
          "base_uri": "https://localhost:8080/",
          "height": 71
        }
      },
      "source": [
        "svm_reg=svm.SVR()\n",
        "svm_reg.fit(X_train,y_train)\n",
        "y1_svm=svm_reg.predict(X_train)\n",
        "y1_svm=list(y1_svm)\n",
        "y2_svm=svm_reg.predict(X_test)\n",
        "y2_svm=list(y2_svm)"
      ],
      "execution_count": 962,
      "outputs": [
        {
          "output_type": "stream",
          "text": [
            "/usr/local/lib/python3.6/dist-packages/sklearn/svm/base.py:193: FutureWarning: The default value of gamma will change from 'auto' to 'scale' in version 0.22 to account better for unscaled features. Set gamma explicitly to 'auto' or 'scale' to avoid this warning.\n",
            "  \"avoid this warning.\", FutureWarning)\n"
          ],
          "name": "stderr"
        }
      ]
    },
    {
      "cell_type": "code",
      "metadata": {
        "id": "r52aL1B4LDqq",
        "colab_type": "code",
        "outputId": "4b6d6846-7531-4d10-d177-e13efaec4281",
        "colab": {
          "base_uri": "https://localhost:8080/",
          "height": 68
        }
      },
      "source": [
        "error=0\n",
        "for i in range(len(y_train)):\n",
        "    error+=(abs(y1_svm[i]-y_train[i])/y_train[i])\n",
        "train_error_bay=error/len(y_train)*100\n",
        "print(\"Train error = \"+'{}'.format(train_error_bay)+\" percent\"+\" in Bayesian Regression\")\n",
        "\n",
        "error=0\n",
        "for i in range(len(y_test)):\n",
        "    error+=(abs(y2_svm[i]-y_test[i])/y_test[i])\n",
        "test_error_bay=(error/len(y_test))*100\n",
        "print(\"Test error = \"+'{}'.format(test_error_bay)+\" percent\"+\" in Bayesian Regression\")\n",
        "print('Mean Square Error', metrics.mean_squared_error(y_test, y2_svm))"
      ],
      "execution_count": 963,
      "outputs": [
        {
          "output_type": "stream",
          "text": [
            "Train error = 3.4886984700045898 percent in Bayesian Regression\n",
            "Test error = 6.198856214903394 percent in Bayesian Regression\n",
            "Mean Square Error 0.2616921293725636\n"
          ],
          "name": "stdout"
        }
      ]
    },
    {
      "cell_type": "code",
      "metadata": {
        "id": "ALES3Nn8OQq9",
        "colab_type": "code",
        "colab": {}
      },
      "source": [
        ""
      ],
      "execution_count": 0,
      "outputs": []
    }
  ]
}